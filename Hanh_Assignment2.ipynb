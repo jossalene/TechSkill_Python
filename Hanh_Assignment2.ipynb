{
 "cells": [
  {
   "cell_type": "markdown",
   "metadata": {},
   "source": [
    "#### Directions for 1 - 4.  Walkthrough the following code and figure out what the code will produce.  After you have done it on paper, then check your results in Python (where applicable)."
   ]
  },
  {
   "cell_type": "markdown",
   "metadata": {},
   "source": [
    "### 1. \n",
    "What will the following code produce?\n",
    "\n",
    "x = 3   \n",
    "x = 9   \n",
    "x = 12   \n",
    "   \n",
    "print(x + x + x)\n",
    "\n",
    "--> Answer:  \n",
    "print(x + x + x) will return 36"
   ]
  },
  {
   "cell_type": "code",
   "execution_count": 1,
   "metadata": {},
   "outputs": [
    {
     "name": "stdout",
     "output_type": "stream",
     "text": [
      "36\n"
     ]
    }
   ],
   "source": [
    "x = 3   \n",
    "x = 9   \n",
    "x = 12   \n",
    "   \n",
    "print(x + x + x)"
   ]
  },
  {
   "cell_type": "markdown",
   "metadata": {},
   "source": [
    "-----"
   ]
  },
  {
   "cell_type": "markdown",
   "metadata": {},
   "source": [
    "### 2.  \n",
    "What is wrong with the following script?\n",
    "\n",
    "cats = 1  \n",
    "--> Nothing wrong\n",
    "\n",
    "_cats = 2  \n",
    "--> Variable name should not start with such specical characters as \"_\"\n",
    "\n",
    "_cats2 = 3  \n",
    "--> Variable name should not start with such special characters as \"_\"\n",
    "\n",
    "2cats = 4  \n",
    "--> Variable name should not start with number\n"
   ]
  },
  {
   "cell_type": "code",
   "execution_count": 3,
   "metadata": {},
   "outputs": [
    {
     "data": {
      "text/plain": [
       "1"
      ]
     },
     "execution_count": 3,
     "metadata": {},
     "output_type": "execute_result"
    }
   ],
   "source": [
    "cats = 1\n",
    "cats"
   ]
  },
  {
   "cell_type": "code",
   "execution_count": 4,
   "metadata": {},
   "outputs": [
    {
     "data": {
      "text/plain": [
       "2"
      ]
     },
     "execution_count": 4,
     "metadata": {},
     "output_type": "execute_result"
    }
   ],
   "source": [
    "_cats = 2\n",
    "_cats"
   ]
  },
  {
   "cell_type": "code",
   "execution_count": 5,
   "metadata": {},
   "outputs": [
    {
     "data": {
      "text/plain": [
       "3"
      ]
     },
     "execution_count": 5,
     "metadata": {},
     "output_type": "execute_result"
    }
   ],
   "source": [
    "_cats2 = 3\n",
    "_cats2 "
   ]
  },
  {
   "cell_type": "code",
   "execution_count": 6,
   "metadata": {},
   "outputs": [
    {
     "ename": "SyntaxError",
     "evalue": "invalid syntax (<ipython-input-6-d1ea3f19126c>, line 1)",
     "output_type": "error",
     "traceback": [
      "\u001b[1;36m  File \u001b[1;32m\"<ipython-input-6-d1ea3f19126c>\"\u001b[1;36m, line \u001b[1;32m1\u001b[0m\n\u001b[1;33m    2cats = 4\u001b[0m\n\u001b[1;37m        ^\u001b[0m\n\u001b[1;31mSyntaxError\u001b[0m\u001b[1;31m:\u001b[0m invalid syntax\n"
     ]
    }
   ],
   "source": [
    "2cats = 4"
   ]
  },
  {
   "cell_type": "markdown",
   "metadata": {},
   "source": [
    "---"
   ]
  },
  {
   "cell_type": "markdown",
   "metadata": {},
   "source": [
    "### 3.  \n",
    "Executing the following code will throw an error.  Explain why?\n",
    "\n",
    "a = 1   \n",
    "b = 2   \n",
    "print(a == b)   \n",
    "print(b == c)   \n",
    "\n",
    "Answer:  \n",
    "It will return False for print(a == b) \n",
    "For print(b == c), it will return error because c is not defined"
   ]
  },
  {
   "cell_type": "code",
   "execution_count": 8,
   "metadata": {},
   "outputs": [
    {
     "name": "stdout",
     "output_type": "stream",
     "text": [
      "False\n"
     ]
    }
   ],
   "source": [
    "a = 1   \n",
    "b = 2   \n",
    "print(a == b)   \n",
    "#print(b == c)   "
   ]
  },
  {
   "cell_type": "markdown",
   "metadata": {},
   "source": [
    "-----"
   ]
  },
  {
   "cell_type": "markdown",
   "metadata": {},
   "source": [
    "### 4.  \n",
    "Fix the last line so that it outputs the sum of 1 and 2.\n",
    "Please do not change the first two line.  Only the last one\n",
    "\n",
    "a = \"1\"   \n",
    "b = 2   \n",
    "print(a + b)   \n",
    "\n"
   ]
  },
  {
   "cell_type": "code",
   "execution_count": 11,
   "metadata": {},
   "outputs": [
    {
     "name": "stdout",
     "output_type": "stream",
     "text": [
      "3\n"
     ]
    }
   ],
   "source": [
    "a = \"1\"\n",
    "b = 2\n",
    "print(int(a) + b) "
   ]
  },
  {
   "cell_type": "markdown",
   "metadata": {},
   "source": [
    "### 5.  \n",
    "Show the sequence of numbers that would be produced by the following expression:\n",
    "\n",
    "list(range(20, 2, -10))  \n",
    "\n",
    "Answer:  \n",
    "It will return: 20, 10"
   ]
  },
  {
   "cell_type": "code",
   "execution_count": 16,
   "metadata": {},
   "outputs": [
    {
     "data": {
      "text/plain": [
       "[20, 10]"
      ]
     },
     "execution_count": 16,
     "metadata": {},
     "output_type": "execute_result"
    }
   ],
   "source": [
    "list(range(20, 2, -10)  )"
   ]
  },
  {
   "cell_type": "markdown",
   "metadata": {},
   "source": [
    "**For items 6, evaluate the following string expressions on paper.**"
   ]
  },
  {
   "cell_type": "markdown",
   "metadata": {},
   "source": [
    "### 6.  \n",
    "\n",
    "s1 = \"circumference\"   \n",
    "s2 = \"pi\"   \n",
    "\n",
    "a. 3 * s1 + 2 * s2  \n",
    "circumferencecircumferencecircumferencepipi\n",
    "\n",
    "b.  s1 + \"and the Knights of the Round Table\"  \n",
    "circumference and the Knights of the Round Table\n",
    "\n",
    "c.  s1[1]  --> indexing  \n",
    "It will return i\n",
    "\n",
    "d.  s1[1:5]  --> slicing  \n",
    "It will return ircu\n",
    "\n",
    "e.  s2[1:5]  --> errors on out of range indexing but NOT out of range slicing  \n",
    "It will return i\n",
    "\n",
    "f.  s2[1] + s1[:2]  --> python assume to start from the begining and go up to (but not including) the position given after the colon  \n",
    "It will return ici\n",
    "\n",
    "g.  s1 + s2[-1]  \n",
    "It will return circumferencei\n",
    "\n",
    "h.  s1.title()  \n",
    "It will return Circumference\n",
    "\n",
    "i.  s2.upper().ljust(4) * 3  \n",
    "It will return PI PI PI"
   ]
  },
  {
   "cell_type": "code",
   "execution_count": 33,
   "metadata": {},
   "outputs": [
    {
     "data": {
      "text/plain": [
       "'PI '"
      ]
     },
     "execution_count": 33,
     "metadata": {},
     "output_type": "execute_result"
    }
   ],
   "source": [
    "s1 = \"circumference\"\n",
    "s2 = \"pi\" \n",
    "s2.upper().ljust(3) "
   ]
  },
  {
   "cell_type": "markdown",
   "metadata": {},
   "source": [
    "### 7.  \n",
    "Show a python expression that could construct each of the following results by performing string operations on `s1` and `s2`   \n",
    "\n",
    "s1 = \"spam\"   \n",
    "s2 = \"ni!\"   \n",
    "\n",
    "a.  \"NI\"   \n",
    "b.  \"ni!spamni!\"   \n",
    "c.  \"Spam Ni! Spam Ni! Spam Ni! \"   \n",
    "d.  \"spam\"   \n",
    "e.  [\"sp\", \"m\"]   \n",
    "f.  \"smp\"   "
   ]
  },
  {
   "cell_type": "code",
   "execution_count": 4,
   "metadata": {},
   "outputs": [
    {
     "data": {
      "text/plain": [
       "'smp'"
      ]
     },
     "execution_count": 4,
     "metadata": {},
     "output_type": "execute_result"
    }
   ],
   "source": [
    "s1 = \"spam\"   \n",
    "s2 = \"ni!\"  \n",
    "\n",
    "s2[:2].upper()\n",
    "s2 + s1 + s2\n",
    "(s1.title().ljust(5) + s2.title().ljust(4) )  *  3\n",
    "s1\n",
    "s1.split('a')\n",
    "s1[0] + s1[-1] + s1[1]"
   ]
  },
  {
   "cell_type": "markdown",
   "metadata": {},
   "source": [
    "### 8.  \n",
    "Show the string that would result from each of the following string formatting operations.  If the operation isn't legal, explain why.   \n",
    "   \n",
    "a. \"Looks like {1} and {0} for breakfast\".format(\"eggs\", \"bacon\")  \n",
    "--> Format the sentence with 'eggs' at position 0 and \"bacon\" at position 1\n",
    "\n",
    "b. \"{0:0.2f} {0:0.2f}\".format(2.3, 2.3466)   \n",
    "--> Select position 0 and the format that value to 0.2f, meaning 2 decimal places float\n",
    "\n",
    "c. \"{7.5f} {7.5f}\".format(2.3, 2.3466)  \n",
    "--> Error: because there is no position argument\n",
    "\n",
    "d. \"Time left {0:0.2f}:{1:05.2f}\".format(1, 37.374)  \n",
    "--> position 0 is 1  \n",
    "--> position 1 is 37.374\n",
    "--> Format the sentence with position 0 to 2 decimal places, and position 1 to 2 decimals places and the lenth of that position is 5\n",
    "\n",
    "\n",
    "e. \"{1:3}\".format{\"14\"}  \n",
    "--> Error: incorrect format  \n",
    "--> It should be \"{0:3}\".format(\"14\")\n"
   ]
  },
  {
   "cell_type": "code",
   "execution_count": 75,
   "metadata": {},
   "outputs": [
    {
     "data": {
      "text/plain": [
       "'14 '"
      ]
     },
     "execution_count": 75,
     "metadata": {},
     "output_type": "execute_result"
    }
   ],
   "source": [
    "\"{0:3}\".format(\"14\")"
   ]
  },
  {
   "cell_type": "markdown",
   "metadata": {},
   "source": [
    "### 9.  \n",
    "Complete the script so that it prints out the third character\n",
    "from the string `weather` using indexing.\n",
    "\n",
    "weather = \"The three day forecast shows a mostly sunny week ahead\" \n"
   ]
  },
  {
   "cell_type": "code",
   "execution_count": 76,
   "metadata": {},
   "outputs": [
    {
     "data": {
      "text/plain": [
       "'e'"
      ]
     },
     "execution_count": 76,
     "metadata": {},
     "output_type": "execute_result"
    }
   ],
   "source": [
    "weather = \"The three day forecast shows a mostly sunny week ahead\" \n",
    "weather[2]"
   ]
  },
  {
   "cell_type": "markdown",
   "metadata": {},
   "source": [
    "### 10.  \n",
    "Use the string method index() to locate the position of the substring `sunny`.\n",
    "\n",
    "weather = \"The three day forecast shows a mostly sunny week ahead\" \n"
   ]
  },
  {
   "cell_type": "code",
   "execution_count": 78,
   "metadata": {},
   "outputs": [
    {
     "data": {
      "text/plain": [
       "38"
      ]
     },
     "execution_count": 78,
     "metadata": {},
     "output_type": "execute_result"
    }
   ],
   "source": [
    "sunny = weather.index(\"sunny\")\n",
    "sunny"
   ]
  },
  {
   "cell_type": "markdown",
   "metadata": {},
   "source": [
    "### 11.  \n",
    "Complete the script so that it prints out the substring `sunny`from the string `weather` using slicing. Make sure to print 'sunny' in uppercase.\n",
    "\n",
    "\n",
    "weather = \"The three day forecast shows a mostly sunny week ahead\" \n"
   ]
  },
  {
   "cell_type": "code",
   "execution_count": 81,
   "metadata": {},
   "outputs": [
    {
     "data": {
      "text/plain": [
       "'SUNNY'"
      ]
     },
     "execution_count": 81,
     "metadata": {},
     "output_type": "execute_result"
    }
   ],
   "source": [
    "weather[38:43].upper()"
   ]
  },
  {
   "cell_type": "markdown",
   "metadata": {},
   "source": [
    "### 12.  \n",
    "Have python print the string `weather` in reverse.\n",
    "\n",
    "weather = \"The three day forecast shows a mostly sunny week ahead\" "
   ]
  },
  {
   "cell_type": "code",
   "execution_count": 87,
   "metadata": {},
   "outputs": [
    {
     "data": {
      "text/plain": [
       "'daeha keew ynnus yltsom a swohs tsacerof yad eerht ehT'"
      ]
     },
     "execution_count": 87,
     "metadata": {},
     "output_type": "execute_result"
    }
   ],
   "source": [
    "weather[:: -1]"
   ]
  },
  {
   "cell_type": "markdown",
   "metadata": {},
   "source": [
    "### 13.  \n",
    "Write a python program to print the following string in the specified format (ignore the change in font type):\n",
    "\n",
    "Twinkle, twinkle, little star,\n",
    "\n",
    "\tHow I wonder what you are!\n",
    "\n",
    "\t\tUp above the world so high,\n",
    "\n",
    "\t\tLike a diamond in the sky.\n",
    "\n",
    "Twinkle, twinkle, little star,\n",
    "\n",
    "\tHow I wonder what you are!\n",
    "\n",
    "\n"
   ]
  },
  {
   "cell_type": "code",
   "execution_count": 89,
   "metadata": {},
   "outputs": [
    {
     "name": "stdout",
     "output_type": "stream",
     "text": [
      "Twinkle, twinkle, little star,\n",
      "\tHow I wonder what you are\n",
      "\t\tUp above the world so high,\n",
      "\t\tLike a diamond in the sky.\n",
      "Twinkle, twinkle, little star,\n",
      "\tHow I wonder what you are\n"
     ]
    }
   ],
   "source": [
    "print('Twinkle, twinkle, little star,\\n\\tHow I wonder what you are\\n\\t\\tUp above the world so high,\\n\\t\\tLike a diamond in the sky.\\nTwinkle, twinkle, little star,\\n\\tHow I wonder what you are')\n"
   ]
  },
  {
   "cell_type": "markdown",
   "metadata": {},
   "source": [
    "### 14.\n",
    "\n",
    "Write a program that ask the the user to input two coordinates (with no parentheses) and determin the distance between the two points using the distance formula below:\n",
    "\n",
    "$$ d = \\sqrt {\\left( {x_1 - x_2 } \\right)^2 + \\left( {y_1 - y_2 } \\right)^2 } $$\n",
    "\n",
    "\n",
    "\n",
    "HINT: you will need to import the `math` package as the first line of your cell so you can use the sqrt function using the code below:      \n",
    "<div align=\"center\"> from math import sqrt </div>\n",
    "\n"
   ]
  },
  {
   "cell_type": "code",
   "execution_count": 3,
   "metadata": {},
   "outputs": [
    {
     "name": "stdout",
     "output_type": "stream",
     "text": [
      "Enter x1 : 2\n",
      "Enter y1 : 5\n",
      "Point A is ( 2.0 ,  5.0 ).\n",
      "Enter x2 : 4\n",
      "Enter y2 : 6\n",
      "Point B is ( 4.0 ,  6.0 ).\n",
      "Distance between Point A and Point B is:  2.23606797749979\n"
     ]
    }
   ],
   "source": [
    "from math import sqrt\n",
    "\n",
    "x1 = float(input(\"Enter x1 : \"))\n",
    "y1 = float(input(\"Enter y1 : \"))\n",
    "print(\"Point A is (\", x1, \", \", y1, \").\")\n",
    "x2 = float(input(\"Enter x2 : \"))\n",
    "y2 = float(input(\"Enter y2 : \"))\n",
    "print(\"Point B is (\", x2, \", \", y2, \").\")\n",
    "d = sqrt((x1 - x2)**2 + (y1 - y2)**2)\n",
    "print(\"Distance between Point A and Point B is: \", d)"
   ]
  },
  {
   "cell_type": "markdown",
   "metadata": {},
   "source": [
    "### 15.  \n",
    "Write a python program that produces the following output:\n",
    "\n",
    "<div align=\"center\"> [25, 30, 35, 40, 45, 50, 55, 60, 65, 70] </div>"
   ]
  },
  {
   "cell_type": "code",
   "execution_count": 91,
   "metadata": {},
   "outputs": [
    {
     "data": {
      "text/plain": [
       "[25, 30, 35, 40, 45, 50, 55, 60, 65, 70]"
      ]
     },
     "execution_count": 91,
     "metadata": {},
     "output_type": "execute_result"
    }
   ],
   "source": [
    "list(range(25, 71, 5))"
   ]
  },
  {
   "cell_type": "markdown",
   "metadata": {},
   "source": [
    "### 16.\n",
    "\n",
    "Write python code to return the middle 5 characters from the following string:\n",
    "\n",
    "my_string = \"Get one month of free service.\""
   ]
  },
  {
   "cell_type": "code",
   "execution_count": 112,
   "metadata": {},
   "outputs": [
    {
     "data": {
      "text/plain": [
       "' of f'"
      ]
     },
     "execution_count": 112,
     "metadata": {},
     "output_type": "execute_result"
    }
   ],
   "source": [
    "my_string = \"Get one month of free service.\"\n",
    "length = len(my_string)\n",
    "my_string[13:18]"
   ]
  },
  {
   "cell_type": "markdown",
   "metadata": {},
   "source": [
    "### 17.\n",
    "\n",
    "Write python code to count the number of times the letter 'o' appears in the following string:\n",
    "\n",
    "my_string = \"What is your favorite show?\""
   ]
  },
  {
   "cell_type": "code",
   "execution_count": 114,
   "metadata": {},
   "outputs": [
    {
     "name": "stdout",
     "output_type": "stream",
     "text": [
      "3\n"
     ]
    }
   ],
   "source": [
    "my_string = \"What is your favorite show?\"\n",
    "count = 0\n",
    "for letter in my_string :\n",
    "    if letter == 'o' : \n",
    "        count += 1\n",
    "print(count)"
   ]
  },
  {
   "cell_type": "code",
   "execution_count": null,
   "metadata": {},
   "outputs": [],
   "source": []
  }
 ],
 "metadata": {
  "kernelspec": {
   "display_name": "Python 3",
   "language": "python",
   "name": "python3"
  }
 },
 "nbformat": 4,
 "nbformat_minor": 4
}

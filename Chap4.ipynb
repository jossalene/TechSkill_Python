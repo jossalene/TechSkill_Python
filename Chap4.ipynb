{
 "cells": [
  {
   "cell_type": "markdown",
   "metadata": {},
   "source": [
    "# Chapter 4: Functions"
   ]
  },
  {
   "cell_type": "markdown",
   "metadata": {},
   "source": [
    "### Function calls\n",
    "\n",
    "**Function** is a named sequence of statements that performs a computation.\n",
    "\n",
    "**A function call** is when you define a function, you specify the name and the sequence of statements before calling the function by name\n",
    "\n",
    "`function`('`argument`')  \n",
    "The function 'takes' an argument and 'returns' a result.\n",
    "The result is called **the return value**"
   ]
  },
  {
   "cell_type": "markdown",
   "metadata": {},
   "source": [
    "------------------"
   ]
  },
  {
   "cell_type": "markdown",
   "metadata": {},
   "source": [
    "### Built-in functions\n",
    "\n",
    "`max()` - gives the largest values in a list  \n",
    "`min()` - gives the smallest values in a list  \n",
    "\n",
    "`len()` - tells how many items are in its argument.  \n",
    "If the argument to `len()` is a string, it returns the number of characters in the strings"
   ]
  },
  {
   "cell_type": "code",
   "execution_count": 1,
   "metadata": {},
   "outputs": [
    {
     "data": {
      "text/plain": [
       "'w'"
      ]
     },
     "execution_count": 1,
     "metadata": {},
     "output_type": "execute_result"
    }
   ],
   "source": [
    "max('Hello world')"
   ]
  },
  {
   "cell_type": "code",
   "execution_count": 2,
   "metadata": {},
   "outputs": [
    {
     "data": {
      "text/plain": [
       "' '"
      ]
     },
     "execution_count": 2,
     "metadata": {},
     "output_type": "execute_result"
    }
   ],
   "source": [
    "min('Hello world')"
   ]
  },
  {
   "cell_type": "code",
   "execution_count": 3,
   "metadata": {},
   "outputs": [
    {
     "data": {
      "text/plain": [
       "11"
      ]
     },
     "execution_count": 3,
     "metadata": {},
     "output_type": "execute_result"
    }
   ],
   "source": [
    "len('Hello world')"
   ]
  },
  {
   "cell_type": "markdown",
   "metadata": {},
   "source": [
    "These functions are not limited to looking at strings. They can operate on any set of values."
   ]
  },
  {
   "cell_type": "markdown",
   "metadata": {},
   "source": [
    "----------------"
   ]
  },
  {
   "cell_type": "markdown",
   "metadata": {},
   "source": [
    "### Type conversion functions\n",
    "\n",
    "**`int()`** - takes any value and converts it to an integer, if it can, or will return error"
   ]
  },
  {
   "cell_type": "code",
   "execution_count": 4,
   "metadata": {},
   "outputs": [
    {
     "data": {
      "text/plain": [
       "32"
      ]
     },
     "execution_count": 4,
     "metadata": {},
     "output_type": "execute_result"
    }
   ],
   "source": [
    "int('32')"
   ]
  },
  {
   "cell_type": "code",
   "execution_count": 5,
   "metadata": {},
   "outputs": [
    {
     "ename": "ValueError",
     "evalue": "invalid literal for int() with base 10: 'Hello'",
     "output_type": "error",
     "traceback": [
      "\u001b[1;31m---------------------------------------------------------------------------\u001b[0m",
      "\u001b[1;31mValueError\u001b[0m                                Traceback (most recent call last)",
      "\u001b[1;32m<ipython-input-5-6765ce49acfe>\u001b[0m in \u001b[0;36m<module>\u001b[1;34m\u001b[0m\n\u001b[1;32m----> 1\u001b[1;33m \u001b[0mint\u001b[0m\u001b[1;33m(\u001b[0m\u001b[1;34m'Hello'\u001b[0m\u001b[1;33m)\u001b[0m\u001b[1;33m\u001b[0m\u001b[1;33m\u001b[0m\u001b[0m\n\u001b[0m",
      "\u001b[1;31mValueError\u001b[0m: invalid literal for int() with base 10: 'Hello'"
     ]
    }
   ],
   "source": [
    "int('Hello')"
   ]
  },
  {
   "cell_type": "markdown",
   "metadata": {},
   "source": [
    "`int()` can convert floating-point values to integers, but it doesn't round off; it chops off the fraction part"
   ]
  },
  {
   "cell_type": "code",
   "execution_count": 6,
   "metadata": {},
   "outputs": [
    {
     "data": {
      "text/plain": [
       "3"
      ]
     },
     "execution_count": 6,
     "metadata": {},
     "output_type": "execute_result"
    }
   ],
   "source": [
    "int(3.99999)"
   ]
  },
  {
   "cell_type": "code",
   "execution_count": 7,
   "metadata": {},
   "outputs": [
    {
     "data": {
      "text/plain": [
       "-2"
      ]
     },
     "execution_count": 7,
     "metadata": {},
     "output_type": "execute_result"
    }
   ],
   "source": [
    "int(-2.3)"
   ]
  },
  {
   "cell_type": "markdown",
   "metadata": {},
   "source": [
    "`float()` converts integers and strings to floating-point numbers"
   ]
  },
  {
   "cell_type": "code",
   "execution_count": 8,
   "metadata": {},
   "outputs": [
    {
     "data": {
      "text/plain": [
       "32.0"
      ]
     },
     "execution_count": 8,
     "metadata": {},
     "output_type": "execute_result"
    }
   ],
   "source": [
    "float(32)"
   ]
  },
  {
   "cell_type": "code",
   "execution_count": 9,
   "metadata": {},
   "outputs": [
    {
     "data": {
      "text/plain": [
       "3.14159"
      ]
     },
     "execution_count": 9,
     "metadata": {},
     "output_type": "execute_result"
    }
   ],
   "source": [
    "float('3.14159')"
   ]
  },
  {
   "cell_type": "markdown",
   "metadata": {},
   "source": [
    "`str()` converts its argument to a string"
   ]
  },
  {
   "cell_type": "code",
   "execution_count": 10,
   "metadata": {},
   "outputs": [
    {
     "data": {
      "text/plain": [
       "'32'"
      ]
     },
     "execution_count": 10,
     "metadata": {},
     "output_type": "execute_result"
    }
   ],
   "source": [
    "str(32)"
   ]
  },
  {
   "cell_type": "code",
   "execution_count": 11,
   "metadata": {},
   "outputs": [
    {
     "data": {
      "text/plain": [
       "'3.14159'"
      ]
     },
     "execution_count": 11,
     "metadata": {},
     "output_type": "execute_result"
    }
   ],
   "source": [
    "str(3.14159)"
   ]
  },
  {
   "cell_type": "markdown",
   "metadata": {},
   "source": [
    "-----------------------------------------"
   ]
  },
  {
   "cell_type": "markdown",
   "metadata": {},
   "source": [
    "### Math functions\n",
    "\n",
    "`math` module - provides most of the familiar mathematical function\n",
    "\n",
    "Before we can use the module, we have to import it"
   ]
  },
  {
   "cell_type": "code",
   "execution_count": 16,
   "metadata": {},
   "outputs": [],
   "source": [
    "import math    # create a module object named math"
   ]
  },
  {
   "cell_type": "code",
   "execution_count": 14,
   "metadata": {},
   "outputs": [
    {
     "name": "stdout",
     "output_type": "stream",
     "text": [
      "<module 'math' (built-in)>\n"
     ]
    }
   ],
   "source": [
    "print(math)   # print() to get some information about it"
   ]
  },
  {
   "cell_type": "markdown",
   "metadata": {},
   "source": [
    "**dot notation** - specifies the *name of the module* and the *name of the function*, separated by a *dot*  \n",
    "\n",
    "Ex: math.log10(`argument`)"
   ]
  },
  {
   "cell_type": "code",
   "execution_count": 18,
   "metadata": {},
   "outputs": [
    {
     "data": {
      "text/plain": [
       "0.644217687237691"
      ]
     },
     "execution_count": 18,
     "metadata": {},
     "output_type": "execute_result"
    }
   ],
   "source": [
    "radians = 0.7\n",
    "height = math.sin(radians)\n",
    "height"
   ]
  },
  {
   "cell_type": "code",
   "execution_count": 19,
   "metadata": {},
   "outputs": [
    {
     "data": {
      "text/plain": [
       "0.7071067811865476"
      ]
     },
     "execution_count": 19,
     "metadata": {},
     "output_type": "execute_result"
    }
   ],
   "source": [
    "degrees = 45\n",
    "radians = degrees / 360.0 * 2 * math.pi\n",
    "math.sin(radians)"
   ]
  },
  {
   "cell_type": "markdown",
   "metadata": {},
   "source": [
    "-----------------------------------------"
   ]
  },
  {
   "cell_type": "markdown",
   "metadata": {},
   "source": [
    "### Random numbers\n",
    "\n",
    "Most computer programs is **deterministic** because they generate the same outputs every time. This is usually a good thing since we expect the same calculation to yield the same result.\n",
    "\n",
    "Ex: Games\n",
    "\n",
    "Making a program truly nondetermistic can be difficult, but there are ways to make it at least seem nondeterministic:\n",
    "\n",
    "**Algorithm** - is one of them - It generates **pseudorandom numbers**, which are not truly random numbers because they are generated by a determinitics computation (but just by looking at the numbers, it is all but impossible to distinguish them from random.\n",
    "\n",
    "The **`random`** module provides functions that generate pseudorandom numbers.  \n",
    "**random** returns a random float between 0.0 and 1.0 (including 0.0 but NOT 1.0)  \n",
    "Each time **random** is called, you get the next number in a long series\n"
   ]
  },
  {
   "cell_type": "code",
   "execution_count": 20,
   "metadata": {},
   "outputs": [],
   "source": [
    "import random"
   ]
  },
  {
   "cell_type": "code",
   "execution_count": 21,
   "metadata": {
    "scrolled": true
   },
   "outputs": [
    {
     "name": "stdout",
     "output_type": "stream",
     "text": [
      "0.6069312631959096\n",
      "0.8372259307437148\n",
      "0.8026116057014729\n",
      "0.4032947330385922\n",
      "0.4385623484176011\n",
      "0.041835554777952755\n",
      "0.2019780841896528\n",
      "0.5797007091796912\n",
      "0.5545293674260464\n",
      "0.9610161497616513\n"
     ]
    }
   ],
   "source": [
    "#this program produces the following list of 10 random numbers \n",
    "# between 0.0 and up to but not including 1.0\n",
    "for i in range(10) :\n",
    "    x = random.random()\n",
    "    print(x)"
   ]
  },
  {
   "cell_type": "markdown",
   "metadata": {},
   "source": [
    "**1. Run the program on your system and see what numbers you get. Run the program more than once and see what numbers you get.**"
   ]
  },
  {
   "cell_type": "code",
   "execution_count": 22,
   "metadata": {},
   "outputs": [
    {
     "name": "stdout",
     "output_type": "stream",
     "text": [
      "0.07182717035391495\n",
      "0.06548934806549478\n",
      "0.4280036749575382\n",
      "0.5936204949202586\n",
      "0.18655980150754203\n",
      "0.320979091348674\n",
      "0.5558969330667035\n",
      "0.6682981215239864\n",
      "0.17028493733381667\n",
      "0.8584655605349129\n"
     ]
    }
   ],
   "source": [
    "for i in range(10) :\n",
    "    x = random.random()\n",
    "    print(x)"
   ]
  },
  {
   "cell_type": "markdown",
   "metadata": {},
   "source": [
    "**`random()`** - only one of many functions that handle random numbers.  \n",
    "**`randint()`** - takes the parameters *low* and *high* and returns an integer between *low* and *high (including both)*"
   ]
  },
  {
   "cell_type": "code",
   "execution_count": 25,
   "metadata": {},
   "outputs": [
    {
     "data": {
      "text/plain": [
       "5"
      ]
     },
     "execution_count": 25,
     "metadata": {},
     "output_type": "execute_result"
    }
   ],
   "source": [
    "random.randint(5, 10)  # randomly returns a value within [5, 10]"
   ]
  },
  {
   "cell_type": "code",
   "execution_count": 26,
   "metadata": {},
   "outputs": [
    {
     "data": {
      "text/plain": [
       "6"
      ]
     },
     "execution_count": 26,
     "metadata": {},
     "output_type": "execute_result"
    }
   ],
   "source": [
    "random.randint(5, 10)"
   ]
  },
  {
   "cell_type": "markdown",
   "metadata": {},
   "source": [
    "**`choice`** - to choose an element from a sequence at random"
   ]
  },
  {
   "cell_type": "code",
   "execution_count": 32,
   "metadata": {},
   "outputs": [
    {
     "data": {
      "text/plain": [
       "3"
      ]
     },
     "execution_count": 32,
     "metadata": {},
     "output_type": "execute_result"
    }
   ],
   "source": [
    "# randomly choose a number from the list:\n",
    "t = [1, 2, 3]\n",
    "random.choice(t)"
   ]
  },
  {
   "cell_type": "code",
   "execution_count": 33,
   "metadata": {},
   "outputs": [
    {
     "data": {
      "text/plain": [
       "1"
      ]
     },
     "execution_count": 33,
     "metadata": {},
     "output_type": "execute_result"
    }
   ],
   "source": [
    "random.choice(t)"
   ]
  },
  {
   "cell_type": "markdown",
   "metadata": {},
   "source": [
    "**`random`** module also provides functions to generate random values from continuous distributions including Gaussian, exponential, gamma, and a few more"
   ]
  },
  {
   "cell_type": "markdown",
   "metadata": {},
   "source": [
    "------------------------"
   ]
  },
  {
   "cell_type": "markdown",
   "metadata": {},
   "source": [
    "### Adding new functions\n",
    "\n",
    "**A function definition** specifies the name of a new function and the sequence of statements that execute when the function is called.  \n",
    "Once a function is defined, it can be reused the fucntion over and over throughout our program.\n",
    "\n",
    "**`def`** - a keyword that indicates that this is a function definition.\n",
    "\n",
    "Formular : `def` `function()`\n",
    "\n",
    "The rules for function names are the same as for variable names: letters, numbers, and some punctuation marks are legal, but the first character can't be a number.\n",
    "\n",
    "A keyword cannot be used as the name of the function.  \n",
    "Avoid having a variable and a function with the same name.\n",
    "\n",
    "**header** - the first line of the function definition.  \n",
    "**body** - all the line below the first line of the function definition - can contain any number of statements.\n",
    "\n",
    "To end the function, enter an empty line (this is not necessary in a script)\n",
    "\n",
    "**Defining a function creates a variable with the same name**"
   ]
  },
  {
   "cell_type": "code",
   "execution_count": 37,
   "metadata": {},
   "outputs": [
    {
     "name": "stdout",
     "output_type": "stream",
     "text": [
      "<function print_lyrics at 0x000002505A00DB88>\n",
      "<class 'function'>\n"
     ]
    }
   ],
   "source": [
    "# print_lyric() is the function name\n",
    "def print_lyrics() :                                    # defining print_lyrics() function\n",
    "    print(\"I'm a lumberjack, and I'm okay.\")            # header\n",
    "    print('I sleep all night and I work all day.')      # body\n",
    "                                                        # ending with an empty line\n",
    "print(print_lyrics)                                     # create a variable with the same name\n",
    "print(type(print_lyrics))                               # type of the variable is 'function'\n",
    "\n",
    "# print_lyrics is a function object"
   ]
  },
  {
   "cell_type": "code",
   "execution_count": 38,
   "metadata": {},
   "outputs": [
    {
     "name": "stdout",
     "output_type": "stream",
     "text": [
      "I'm a lumberjack, and I'm okay.\n",
      "I sleep all night and I work all day.\n"
     ]
    }
   ],
   "source": [
    "# calling the new function\n",
    "\n",
    "print_lyrics()"
   ]
  },
  {
   "cell_type": "markdown",
   "metadata": {},
   "source": [
    "Once a function is defined, it can be used inside another function."
   ]
  },
  {
   "cell_type": "code",
   "execution_count": 40,
   "metadata": {},
   "outputs": [
    {
     "name": "stdout",
     "output_type": "stream",
     "text": [
      "I'm a lumberjack, and I'm okay.\n",
      "I sleep all night and I work all day.\n",
      "I'm a lumberjack, and I'm okay.\n",
      "I sleep all night and I work all day.\n"
     ]
    }
   ],
   "source": [
    "# to repeat the previous refrain, write repeat_lyrics()\n",
    "\n",
    "def repeat_lyrics() :\n",
    "    print_lyrics()\n",
    "    print_lyrics()\n",
    "repeat_lyrics()         # call repeat_lyrics()"
   ]
  },
  {
   "cell_type": "markdown",
   "metadata": {},
   "source": [
    "-------------------"
   ]
  },
  {
   "cell_type": "markdown",
   "metadata": {},
   "source": [
    "### Definitions and uses\n",
    "\n",
    "Function definitions get executed just like other statements, but **the effect is to create function objects**\n",
    "\n",
    "The statements inside the function do not get executed until the function is called, and the functions definition generates no output\n",
    "\n",
    "The function definition has to be executed before the first time it is called"
   ]
  },
  {
   "cell_type": "markdown",
   "metadata": {},
   "source": [
    "**2. Move the last line of this program to the top, so the function call appears before the definitions. Run the program and see what error message you get.**\n",
    "\n",
    "--> It generates no output because the function has not been defined yet"
   ]
  },
  {
   "cell_type": "code",
   "execution_count": 1,
   "metadata": {},
   "outputs": [
    {
     "ename": "NameError",
     "evalue": "name 'repeat_lyrics' is not defined",
     "output_type": "error",
     "traceback": [
      "\u001b[1;31m---------------------------------------------------------------------------\u001b[0m",
      "\u001b[1;31mNameError\u001b[0m                                 Traceback (most recent call last)",
      "\u001b[1;32m<ipython-input-1-bcf9fa858672>\u001b[0m in \u001b[0;36m<module>\u001b[1;34m\u001b[0m\n\u001b[1;32m----> 1\u001b[1;33m \u001b[0mrepeat_lyrics\u001b[0m\u001b[1;33m(\u001b[0m\u001b[1;33m)\u001b[0m\u001b[1;33m\u001b[0m\u001b[1;33m\u001b[0m\u001b[0m\n\u001b[0m\u001b[0;32m      2\u001b[0m \u001b[1;33m\u001b[0m\u001b[0m\n\u001b[0;32m      3\u001b[0m \u001b[1;32mdef\u001b[0m \u001b[0mprint_lyrics\u001b[0m\u001b[1;33m(\u001b[0m\u001b[1;33m)\u001b[0m\u001b[1;33m:\u001b[0m\u001b[1;33m\u001b[0m\u001b[1;33m\u001b[0m\u001b[0m\n\u001b[0;32m      4\u001b[0m     \u001b[0mprint\u001b[0m\u001b[1;33m(\u001b[0m\u001b[1;34m\"I'm a lumberjack, and I'm okay.\"\u001b[0m\u001b[1;33m)\u001b[0m\u001b[1;33m\u001b[0m\u001b[1;33m\u001b[0m\u001b[0m\n\u001b[0;32m      5\u001b[0m     \u001b[0mprint\u001b[0m\u001b[1;33m(\u001b[0m\u001b[1;34m'I sleep all night and I work all day.'\u001b[0m\u001b[1;33m)\u001b[0m\u001b[1;33m\u001b[0m\u001b[1;33m\u001b[0m\u001b[0m\n",
      "\u001b[1;31mNameError\u001b[0m: name 'repeat_lyrics' is not defined"
     ]
    }
   ],
   "source": [
    "repeat_lyrics()\n",
    "\n",
    "def print_lyrics(): \n",
    "    print(\"I'm a lumberjack, and I'm okay.\") \n",
    "    print('I sleep all night and I work all day.')\n",
    "    \n",
    "def repeat_lyrics(): \n",
    "    print_lyrics() \n",
    "    print_lyrics()"
   ]
  },
  {
   "cell_type": "markdown",
   "metadata": {},
   "source": [
    "**3. Move the function call back to the bottom and move the definition of `print_lyrics()` after the defintion of `repeat_lyrics()`. What happen if you run this program?**\n",
    "\n",
    "--> The function still works as both functions has been defined"
   ]
  },
  {
   "cell_type": "code",
   "execution_count": 2,
   "metadata": {},
   "outputs": [
    {
     "name": "stdout",
     "output_type": "stream",
     "text": [
      "I'm a lumberjack, and I'm okay.\n",
      "I sleep all night and I work all day.\n",
      "I'm a lumberjack, and I'm okay.\n",
      "I sleep all night and I work all day.\n"
     ]
    }
   ],
   "source": [
    "def repeat_lyrics(): \n",
    "    print_lyrics() \n",
    "    print_lyrics()\n",
    "\n",
    "def print_lyrics(): \n",
    "    print(\"I'm a lumberjack, and I'm okay.\") \n",
    "    print('I sleep all night and I work all day.')\n",
    "    \n",
    "repeat_lyrics()"
   ]
  },
  {
   "cell_type": "markdown",
   "metadata": {},
   "source": [
    "--------------------"
   ]
  },
  {
   "cell_type": "markdown",
   "metadata": {},
   "source": [
    "### Flow of execution\n",
    "\n",
    "**Flow of execution** - the order in which statements are executed to ensure that a function is defined before its first use.\n",
    "\n",
    "Executions are execution one at a time, in order from top to bottom\n",
    "\n",
    "Function *definitions* do not alter the flow of execution of the program but the statements inside the function is NOT executed until the function is called.\n",
    "\n",
    "A function call is a detour of the flow execution, in which the flow jumps to the body of the function, executes all the statements there, and then comes back to pick up where it left off.\n",
    "\n",
    "Each time a function completes, the program picks up where it left off in the function that called it. When it gets to the end of the program, it terminates."
   ]
  },
  {
   "cell_type": "markdown",
   "metadata": {},
   "source": [
    "-------------------------"
   ]
  },
  {
   "cell_type": "markdown",
   "metadata": {},
   "source": [
    "### Parameters and arguments\n",
    "\n",
    "**Parameters** - the arguments are assigned to variables"
   ]
  },
  {
   "cell_type": "code",
   "execution_count": 3,
   "metadata": {},
   "outputs": [
    {
     "name": "stdout",
     "output_type": "stream",
     "text": [
      "Spam\n",
      "Spam\n",
      "17\n",
      "17\n"
     ]
    }
   ],
   "source": [
    "def print_twice(bruce) :\n",
    "    print(bruce)\n",
    "    print(bruce)\n",
    "    \n",
    "print_twice('Spam')\n",
    "\n",
    "print_twice(17)"
   ]
  },
  {
   "cell_type": "code",
   "execution_count": 4,
   "metadata": {},
   "outputs": [
    {
     "name": "stdout",
     "output_type": "stream",
     "text": [
      "3.141592653589793\n",
      "3.141592653589793\n"
     ]
    }
   ],
   "source": [
    "import math\n",
    "print_twice(math.pi)"
   ]
  },
  {
   "cell_type": "code",
   "execution_count": 5,
   "metadata": {},
   "outputs": [
    {
     "name": "stdout",
     "output_type": "stream",
     "text": [
      "Spam Spam Spam Spam \n",
      "Spam Spam Spam Spam \n"
     ]
    }
   ],
   "source": [
    "print_twice('Spam ' * 4)"
   ]
  },
  {
   "cell_type": "code",
   "execution_count": 6,
   "metadata": {},
   "outputs": [
    {
     "name": "stdout",
     "output_type": "stream",
     "text": [
      "-1.0\n",
      "-1.0\n"
     ]
    }
   ],
   "source": [
    "print_twice(math.cos(math.pi))"
   ]
  },
  {
   "cell_type": "code",
   "execution_count": 7,
   "metadata": {},
   "outputs": [
    {
     "name": "stdout",
     "output_type": "stream",
     "text": [
      "Eric, the half a bee\n",
      "Eric, the half a bee\n"
     ]
    }
   ],
   "source": [
    "michael = 'Eric, the half a bee'\n",
    "print_twice(michael)"
   ]
  },
  {
   "cell_type": "markdown",
   "metadata": {},
   "source": [
    "--------------------"
   ]
  },
  {
   "cell_type": "markdown",
   "metadata": {},
   "source": [
    "### Fruitful functions and avoid functions\n",
    "\n",
    "**Fruitful fucntions** - functions that yield results\n",
    "\n",
    "**Void functions** - functions perform an action but don't return a value.  \n",
    "--> If the result is assigned to a variable, it returns `None`"
   ]
  },
  {
   "cell_type": "code",
   "execution_count": 11,
   "metadata": {},
   "outputs": [],
   "source": [
    "# fruitful function\n",
    "import math\n",
    "golden = (math.sqrt(5) + 1) / 2"
   ]
  },
  {
   "cell_type": "code",
   "execution_count": 13,
   "metadata": {},
   "outputs": [
    {
     "name": "stdout",
     "output_type": "stream",
     "text": [
      "Bing\n",
      "Bing\n",
      "None\n",
      "<class 'NoneType'>\n"
     ]
    }
   ],
   "source": [
    "# void function\n",
    "result = print_twice('Bing')\n",
    "print (result)\n",
    "print(type(None))               # return 'None' when assign result of a void function to a variable"
   ]
  },
  {
   "cell_type": "markdown",
   "metadata": {},
   "source": [
    "**`return statement`** - to return a result from a function"
   ]
  },
  {
   "cell_type": "code",
   "execution_count": 15,
   "metadata": {},
   "outputs": [
    {
     "name": "stdout",
     "output_type": "stream",
     "text": [
      "8\n"
     ]
    }
   ],
   "source": [
    "def addtwo(a, b) :\n",
    "    added = a + b\n",
    "    return added\n",
    "\n",
    "x = addtwo(3, 5)\n",
    "print(x)"
   ]
  },
  {
   "cell_type": "markdown",
   "metadata": {},
   "source": [
    "-----------------------------"
   ]
  },
  {
   "cell_type": "markdown",
   "metadata": {},
   "source": [
    "### Why functions?\n",
    "\n",
    "There are several reasons to divide a program into functions.\n",
    "\n",
    "+ Creating a new function gives you an opportunity to name a group of statements, which makes your program easier to read, understand, and debug.\n",
    "\n",
    "+ Functions can make a program smaller by eliminating repetitive code. Later, if you make a change, you only have to make it in one place\n",
    "\n",
    "+ Dividing a long program into functions allows you to debug the parts one at a time and then assemble them into a working whole.\n",
    "\n",
    "+ Well-designed functions are often useful for many programs. Once you write and debug one, you can reuse it."
   ]
  },
  {
   "cell_type": "markdown",
   "metadata": {},
   "source": [
    "-----------------"
   ]
  },
  {
   "cell_type": "markdown",
   "metadata": {},
   "source": [
    "### Debugging\n",
    "\n",
    "+ Using 'space' over 'tab'  \n",
    "+ Save program before running it  \n",
    "+ The right code and program are actually running"
   ]
  },
  {
   "cell_type": "markdown",
   "metadata": {},
   "source": [
    "------------------------"
   ]
  },
  {
   "cell_type": "markdown",
   "metadata": {},
   "source": [
    "### Glossary\n",
    "\n",
    "**algorithm** - A generation process for solving a category of problems.  \n",
    "\n",
    "**argument** - A value provided to a function when the function is called. This value is assigned to the corresponding parameter in the function.  \n",
    "\n",
    "**body** - The sequence of statement inside a function definition\n",
    "\n",
    "**composition** - Using an expression as part of a larger expression, or a statement as part of a larger statement\n",
    "\n",
    "**deterministic** - Pertaining to a program that does the same thing each time it runs, given the same inputs\n",
    "\n",
    "**dot notation** - The syntax for calling a function in another module by specifying the module name followed by a dot (period) and the function name.\n",
    "\n",
    "**flow of execution** - The order in which statements are executed during a program run.\n",
    "\n",
    "**fruitful function** - A function that returns a value.\n",
    "\n",
    "**function** - A named sequence of statements that performs some useful operation. Functions may or may not take arguments and may or may not produce a result.\n",
    "\n",
    "**function call** - A statement that executes a function. It consists of the function name followed by an argument list.\n",
    "\n",
    "**Function definition** - A statement that creates a new function. it consists of the function name followed by an argument list\n",
    "\n",
    "**function object** - A value created by a function definition. The name of the function is a variable that refers to a function object.\n",
    "\n",
    "**header** The first line of a function definition.\n",
    "\n",
    "**import statement** - A statement that reads a module file and creates a module object.\n",
    "\n",
    "**module object** - A value created by an `import` statement that provides access to the data and code defined in a module\n",
    "\n",
    "**parameter** - A name used inside a function to refer to the value passed as an argument\n",
    "\n",
    "**pseudorandom** - Pertaining to a sequence of numbers that appear to be random, but are generated by a deterministic program\n",
    "\n",
    "**return value** - The result of a function. If a function call is used as an expression, the return value is the value of the expression\n",
    "\n",
    "**void function** - A function that does not return a value\n"
   ]
  },
  {
   "cell_type": "markdown",
   "metadata": {},
   "source": [
    "------------------"
   ]
  },
  {
   "cell_type": "markdown",
   "metadata": {},
   "source": [
    "## Exercises\n",
    "\n",
    "**4. What is the purpose of the \"def' keyword in Python?**\n",
    "\n",
    "--> d. b and c  \n",
    "It indicates the start of a function, and that the following indented section of code is to be stored for later.\n",
    "\n",
    "**5. What will the following Python program print out?**\n",
    "\n",
    "--> d. ABC Zap ABC"
   ]
  },
  {
   "cell_type": "code",
   "execution_count": 16,
   "metadata": {},
   "outputs": [
    {
     "name": "stdout",
     "output_type": "stream",
     "text": [
      "ABC\n",
      "Zap\n",
      "ABC\n"
     ]
    }
   ],
   "source": [
    "def fred() :\n",
    "    print(\"Zap\")\n",
    "    \n",
    "def jane() :\n",
    "    print(\"ABC\")\n",
    "    \n",
    "jane()\n",
    "fred()\n",
    "jane()"
   ]
  },
  {
   "cell_type": "markdown",
   "metadata": {},
   "source": [
    "**6. Rewrite your pay computation with time-and-a-half for over-time and create a function called `computepay()` which takes two parameters (hours and rate).**\n",
    "\n",
    "Enter Hours: 45  \n",
    "Enter Rate: 10  \n",
    "Pay: 475.0"
   ]
  },
  {
   "cell_type": "code",
   "execution_count": null,
   "metadata": {},
   "outputs": [],
   "source": [
    "def computepay() : \n",
    "    "
   ]
  },
  {
   "cell_type": "code",
   "execution_count": 21,
   "metadata": {},
   "outputs": [
    {
     "name": "stdout",
     "output_type": "stream",
     "text": [
      "How many hours did you work? 45\n",
      "Enter your hourly rate: 10\n",
      "Your payment is: 475.0\n"
     ]
    }
   ],
   "source": [
    "def computepay() :\n",
    "    try : \n",
    "        inp_hour = float(input('How many hours did you work? '))\n",
    "        inp_rate = float(input('Enter your hourly rate: '))\n",
    "        if inp_hour <= 40 :\n",
    "            computepay = inp_hour * inp_rate\n",
    "            print('Your payment is:', computepay)\n",
    "        else :\n",
    "            over_rate = 1.5 * inp_rate\n",
    "            over_hour = inp_hour - 40\n",
    "            computepay = (40 * inp_rate) + (over_hour * over_rate)\n",
    "            print('Your payment is:', computepay)\n",
    "    except :\n",
    "        print('Please enter a number')\n",
    "\n",
    "computepay()    "
   ]
  },
  {
   "cell_type": "markdown",
   "metadata": {},
   "source": [
    "**7. Rewrite the grade program from the previous chapter using a function called computergrade that takes a score as its parameter and returns a grade as a string.**\n",
    "\n",
    "`>=` 0.9 A  \n",
    "`>=` 0.8 B  \n",
    "`>=` 0.7 C  \n",
    "`>=` 0.6 D  \n",
    "` <` 0.6 F\n",
    "\n",
    "Enter score: 0.95   \n",
    "A\n",
    "\n",
    "Enter score: perfect  \n",
    "Bad score\n",
    "\n",
    "Enter score: 10.0  \n",
    "Bad score\n",
    "\n",
    "Enter score: 0.75  \n",
    "C\n",
    "\n",
    "Enter score: 0.5  \n",
    "F\n",
    "\n",
    "Run the program repeatedly as shown above to test the various diﬀerent values for input."
   ]
  },
  {
   "cell_type": "code",
   "execution_count": 4,
   "metadata": {},
   "outputs": [
    {
     "name": "stdout",
     "output_type": "stream",
     "text": [
      "Enter your score: 0.5\n",
      "F\n"
     ]
    }
   ],
   "source": [
    "def computegrade() :\n",
    "    try :\n",
    "        s = float(input('Enter your score: '))\n",
    "        if 0 <= s < 0.6 :\n",
    "            print('F')\n",
    "        elif 0.6 <= s < 0.7 :\n",
    "            print('D')\n",
    "        elif 0.7 <= s < 0.8 :\n",
    "            print('C')\n",
    "        elif 0.8 <= s < 0.9 :\n",
    "            print('B')\n",
    "        elif 0.9 <= s <= 1 :\n",
    "            print('A')\n",
    "        else :\n",
    "            print('Bad score')\n",
    "    except :\n",
    "        print('Bad score')\n",
    "        \n",
    "computegrade()\n",
    "    "
   ]
  },
  {
   "cell_type": "code",
   "execution_count": null,
   "metadata": {},
   "outputs": [],
   "source": []
  }
 ],
 "metadata": {
  "kernelspec": {
   "display_name": "Python 3",
   "language": "python",
   "name": "python3"
  },
  "language_info": {
   "codemirror_mode": {
    "name": "ipython",
    "version": 3
   },
   "file_extension": ".py",
   "mimetype": "text/x-python",
   "name": "python",
   "nbconvert_exporter": "python",
   "pygments_lexer": "ipython3",
   "version": "3.7.4"
  }
 },
 "nbformat": 4,
 "nbformat_minor": 2
}

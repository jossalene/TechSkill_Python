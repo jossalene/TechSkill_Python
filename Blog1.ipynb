{
 "cells": [
  {
   "cell_type": "markdown",
   "metadata": {},
   "source": [
    "---"
   ]
  },
  {
   "cell_type": "markdown",
   "metadata": {},
   "source": [
    "# The Final Grade Calculator: The Complete Guide "
   ]
  },
  {
   "cell_type": "markdown",
   "metadata": {},
   "source": [
    "---"
   ]
  },
  {
   "cell_type": "markdown",
   "metadata": {},
   "source": [
    "### A Few Words ...\n",
    "\n",
    "Final Grade has always been students' most concerned topic during their academic life since everyone wants to know their grade before it is posted at the end of the term. It goes the same to me as I am taking Python this summer. So I thought I should create a program to help me and my classmates calculate our grade for this specific class.\n",
    "\n",
    "I also consider this blog as a practice project for what I have learned and read so far in our Python class this summer. I hope that you would find it useful as it is not only our grade calculator for the class but also as a general review of the first half of our class.\n",
    "\n",
    "This program will mainly use **`If`** condition as well as **`try`** and **`except`**. Therefore, we can expect it to be lengthy.\n",
    "\n",
    "\n",
    "### The General Overview\n",
    "<br>\n",
    "<br>\n",
    "\n",
    "What makes this project interesting is that we have both graduate and undergraduate students in my class. And they have slightly different grading system to get the accurate grade for a specific student. If we compare the grade breakdown between undergrad and grad students, we see that the grad student is having more assessment items such as one extra Blog and a Data Analysis project, thus, making their grading proportion different from the undergrad students.\n",
    "\n",
    "<br>\n",
    "<br>\n",
    "\n",
    "|#### UNDERGRAD'S GRADE BREAKDOWN|#### GRAD'S GRADE BREAKDOWN|\n",
    "|:---:|:---:|\n",
    "|<table> <tr><th>Assessment Item</th><th>Grade Proportion</th></tr><tr><td>Midterm</td><td>30%</td></tr><tr><td>Blog</td><td>20%</td></tr><tr><td>---</td><td>---</td></tr><tr><td>#50daysofcode</td><td>20%</td></tr><tr><td>---</td><td>---</td></tr><tr><td>Final</td><td>30%</td></tr><tr><td><strong>Total</strong></td><td><strong>100%</strong><td><td></td></tr> </table>| <table> <tr><th>Assessment Item</th><th>Grade Proportion</th></tr><tr><td>Midterm</td><td><span style=\"color:red\">25%<span></td></tr><tr><td><span style=\"color:red\">Blog 1</span></td><td><span style=\"color:red\">7.5%</span></td></tr><tr><td><span style=\"color:red\">Blog 2</span></td><td><span style=\"color:red\">7.5%</span></td></tr><tr><td>#50daysofcode</td><td><span style=\"color:red\">10%</span></td></tr><tr><td><span style=\"color:red\">Data Analysis</span></td><td><span style=\"color:red\">25%<span></td></tr><tr><td>Final</td><td><span style=\"color:red\">25%</span></td></tr><tr><td>**Total**</td><td>**100%**</td></tr> </table>|\n",
    "\n",
    "<br>\n",
    "<br>\n",
    "\n",
    "The maximum possiple point for each assigment also need to be concerned.\n",
    "<br>\n",
    "<br>\n",
    "\n",
    "|<span style = \"color:blue\">POSSIBLE POINT FOR EACH ASSESSMENT ITEM</span>|\n",
    "|:---:|\n",
    "|<table> <tr><th>Assessment Item</th><th>Possible Point</th></tr><tr><td>Midterm</td><td>100</td></tr><tr><td>Each Blog</td><td>100</td></tr><tr><td>#50daysofcodes</td><td><span style =\"color:red\">50</span></td></tr><tr><td>Data Analysis</td><td>100</td></tr><tr><td>Final Exam</td><td>100</td></tr> </table>|\n",
    "\n",
    "<br>\n",
    "<br>\n",
    "\n",
    "Not only so, the letter grade system is also slightly different. While the undergrad has grade C- and D in their letter grading scale, the lowest letter grade a grad student can get is C if they do not want to fail the class.\n",
    "\n",
    "<br>\n",
    "<br>\n",
    "\n",
    "\n",
    "|<span style = \"color:blue\">LETTER GRADE SCALE</span>|\n",
    "|:---:|\n",
    "|<table> <tr><th><p align=\"center\">Total Numeric Grade</p></th><th><p align=\"center\">Undergrad</p></th><th><p align=\"center\">Grad</p></th></tr><tr><td><p align=\"center\">100 - 97</p></td><td><p align=\"center\">A+</p></td><td><p align=\"center\">A+</p></td></tr><tr><td><p align=\"center\">93 - 96</p></td><td><p align=\"center\">A</p></td><td><p align=\"center\">A</p></td></tr><tr><td><p align=\"center\">92 - 90</p></td><td><p align=\"center\">A-</p></td><td><p align=\"center\">A-</p></td></tr><tr><td><p align=\"center\">89 - 97</p></td><td><p align=\"center\">B+</p></td><td><p align=\"center\">B+</p></td></tr><tr><td><p align=\"center\">86 - 83</p></td><td><p align=\"center\">B</p></td><td><p align=\"center\">B</p></td></tr><tr><td><p align=\"center\">82 - 80</p></td><td><p align=\"center\">B-</p></td><td><p align=\"center\">B-</p></td></tr><tr><td><p align=\"center\">79 - 76</p></td><td><p align=\"center\">C+</p></td><td><p align=\"center\">C+</p></td></tr><tr><td><p align=\"center\">75 - 71</p></td><td><p align=\"center\">C</p></td><td><p align=\"center\">C</p></td></tr><tr><td><p align=\"center\">70 - 66</p></td><td><p align=\"center\">C-</p></td><td><p align=\"center\"><span style=\"color:red\"><strong>F</strong></span></p></td></tr><tr><td><p align=\"center\">65 - 60</p></td><td><p align=\"center\">D</p></td><td><span style=\"color:red\"><strong><p align=\"center\">F</p></strong></span></td></tr><tr><td><p align=\"center\">below 60</p></td><td><p align=\"center\">F</p></td><td><span style=\"color:red\"><strong><p align=\"center\">F</p></strong></span></td></tr> </table>|\n",
    "\n",
    "<br>\n",
    "<br>\n",
    "\n",
    "## Let's get started!"
   ]
  },
  {
   "cell_type": "markdown",
   "metadata": {},
   "source": [
    "---"
   ]
  },
  {
   "cell_type": "markdown",
   "metadata": {},
   "source": [
    "### Codding text for program introduction\n",
    "---\n",
    "\n",
    "At the beginning of the program, I would like to give some introduction about how our grade will be calculated differently such as how the grade is calculated differently for undergrad and grad student. \n",
    "    \n",
    "In order to include all of the necessary information in our code, I use **`print()`** function together with **`\\n`** and **`\\t`** sequence.  \n",
    "+ `\\n` represents the new line.  \n",
    "+ `\\t` represents tab\n",
    "\n",
    "**This is how the full introduction code and its output looks like:** \n",
    "\n",
    "        "
   ]
  },
  {
   "cell_type": "code",
   "execution_count": 1,
   "metadata": {},
   "outputs": [
    {
     "name": "stdout",
     "output_type": "stream",
     "text": [
      "\n",
      "\n",
      "\n",
      "Hello there! This program will help you calculate your final grade for our Python class this summer.\n",
      "\n",
      "Since we have both undergrad and grad students in this class, our grade of each type of student will be calculated differently.\n",
      "\n",
      "\n",
      "For undergrad students, the final grade will be comprised of:\n",
      "\t\t\tone (1) Midterm\t\t\t\t30%\n",
      "\t\t\tone (1) Blog\t\t\t\t20%\n",
      "\t\t\tone (1) Final Exam\t\t\t30%\n",
      "\t\t\t#50daysofcode posting\t\t\t20%\n",
      "\n",
      "\t\tLetter grades will be given as:\n",
      "\t\t\tA+\t100-97%\t\tA\t96-93%\t\tA-\t92-90%\n",
      "\t\t\tB+\t89-87%\t\tB\t86-83%\t\tB-\t82-80%\n",
      "\t\t\tC+\t79-76%\t\tC\t75-71%\t\tC-\t70-66%\n",
      "\t\t\tD\t66-60%\t\tF\t< 60%\n",
      "\n",
      "\n",
      "For grad students, the final grade will be comprised of:\n",
      "\t\t\tone (1) Midterm\t\t\t\t25%\n",
      "\t\t\ttwo (2) blogs\t\t\t\t15%\n",
      "\t\t\tone (1) Final Exam\t\t\t25%\n",
      "\t\t\t#50daysofcode posting\t\t\t10%\n",
      "\t\t\tone (1) Data Analysis project\t\t25%\n",
      "\n",
      "\t\tLetter grades will be given as:\n",
      "\t\t\tA+\t100-97%\t\tA\t96-93%\t\tA-\t92-90%\n",
      "\t\t\tB+\t89-87%\t\tB\t86-83%\t\tB-\t82-80%\n",
      "\t\t\tC+\t79-76%\t\tC\t75-71%\t\tF\t<= 70%\n",
      "\n",
      "\n",
      "Remember, 50 is be the maximum score for #50daysofcode assignment while 100 is the maximum scores for the others\n",
      "\n",
      "\n",
      "** To make sure the calculator run probably, follow the instruction. ** \n",
      "\n",
      "\n",
      "\n"
     ]
    }
   ],
   "source": [
    "print('\\n\\n\\nHello there! This program will help you calculate your final grade for our Python class this summer.\\n\\nSince we have both undergrad and grad students in this class, our grade of each type of student will be calculated differently.\\n\\n\\nFor undergrad students, the final grade will be comprised of:\\n\\t\\t\\tone (1) Midterm\\t\\t\\t\\t30%\\n\\t\\t\\tone (1) Blog\\t\\t\\t\\t20%\\n\\t\\t\\tone (1) Final Exam\\t\\t\\t30%\\n\\t\\t\\t#50daysofcode posting\\t\\t\\t20%\\n\\n\\t\\tLetter grades will be given as:\\n\\t\\t\\tA+\\t100-97%\\t\\tA\\t96-93%\\t\\tA-\\t92-90%\\n\\t\\t\\tB+\\t89-87%\\t\\tB\\t86-83%\\t\\tB-\\t82-80%\\n\\t\\t\\tC+\\t79-76%\\t\\tC\\t75-71%\\t\\tC-\\t70-66%\\n\\t\\t\\tD\\t66-60%\\t\\tF\\t< 60%\\n\\n\\nFor grad students, the final grade will be comprised of:\\n\\t\\t\\tone (1) Midterm\\t\\t\\t\\t25%\\n\\t\\t\\ttwo (2) blogs\\t\\t\\t\\t15%\\n\\t\\t\\tone (1) Final Exam\\t\\t\\t25%\\n\\t\\t\\t#50daysofcode posting\\t\\t\\t10%\\n\\t\\t\\tone (1) Data Analysis project\\t\\t25%\\n\\n\\t\\tLetter grades will be given as:\\n\\t\\t\\tA+\\t100-97%\\t\\tA\\t96-93%\\t\\tA-\\t92-90%\\n\\t\\t\\tB+\\t89-87%\\t\\tB\\t86-83%\\t\\tB-\\t82-80%\\n\\t\\t\\tC+\\t79-76%\\t\\tC\\t75-71%\\t\\tF\\t<= 70%\\n\\n\\nRemember, 50 is be the maximum score for #50daysofcode assignment while 100 is the maximum scores for the others\\n\\n\\n** To make sure the calculator run probably, follow the instruction. ** \\n\\n\\n')"
   ]
  },
  {
   "cell_type": "markdown",
   "metadata": {},
   "source": [
    "---"
   ]
  },
  {
   "cell_type": "markdown",
   "metadata": {},
   "source": [
    "### Building up from blocks \n",
    "---"
   ]
  },
  {
   "cell_type": "markdown",
   "metadata": {},
   "source": [
    "When writing a program, a lot of people will just start writing their code in a chronological order. However, I prefer to build my program up from separated code chunks, and then put them back together in order. For example, since the core of our program is to calculate grade, I will first start with writing codes for letter grade scale using `If` condition.\n",
    "    \n",
    "<br>\n",
    "<br>\n",
    "    \n",
    "Remember, undergrad and grad students have slightly different letter grade scale. While udergrad students have letter grade of C- and D, grad student must achieve at least a C or they would fail the class. For this reason, the two types of students share a large proportion in their letter grade scale. Therefore, I want to make this portion shared between grad and undergrad by **defining a new function**: "
   ]
  },
  {
   "cell_type": "code",
   "execution_count": 8,
   "metadata": {},
   "outputs": [],
   "source": [
    "# define the function to calculate the shared proportion of two letter grade scales for undergrad and grad: \n",
    "def LetterSimilar(level, g) :\n",
    "    if level in ('u', 'g') :\n",
    "        if g >= 97 :\n",
    "            print('Outstanding! Your final grade is A+.')\n",
    "        elif g >= 93 :\n",
    "            print('Excellent! Your final grade is A.')\n",
    "        elif g >= 90 :\n",
    "            print('Awesome! Your final grade is A-.')\n",
    "        elif g >= 87 :\n",
    "            print('Great! Your final grade B+.')\n",
    "        elif g >= 83 :\n",
    "            print('Good job! Your final grade is B.')\n",
    "        elif g >= 80 :\n",
    "            print('Your final grade is B-.')\n",
    "        elif g >= 76 :\n",
    "            print('Your final grade is C+.')\n",
    "        elif g >= 71 :\n",
    "            print('Your final grade is C.')"
   ]
  },
  {
   "cell_type": "markdown",
   "metadata": {},
   "source": [
    "**Here is also another function we need to define to make our program easier to understand when returning error for invalid score input:**"
   ]
  },
  {
   "cell_type": "code",
   "execution_count": 1,
   "metadata": {},
   "outputs": [],
   "source": [
    "def scoreError():\n",
    "    print(\"Invalid Score. Please run the program again and enter a valid score for this assessment item.\")"
   ]
  },
  {
   "cell_type": "markdown",
   "metadata": {},
   "source": [
    "---\n",
    "\n",
    "#### Now, since *variable 'g'* has not been defined yet. I will start build up codes to get score input that we can use to calculate *g*.\n",
    "\n",
    "#### As we go back to the grade breakdown:\n",
    "\n",
    "\n",
    "|<span style = \"color:blue\">UNDERGRAD'S GRADE BREAKDOWN</span>|<span style = \"color:blue\">GRAD'S GRADE BREAKDOWN</span>|\n",
    "|:---:|:---:|\n",
    "|<table> <tr><th>Assessment Item</th><th>Grade Proportion</th></tr><tr><td>Midterm</td><td>30%</td></tr><tr><td>Blog</td><td>20%</td></tr><tr><td>---</td><td>---</td></tr><tr><td>#50daysofcode</td><td>20%</td></tr><tr><td>---</td><td>---</td></tr><tr><td>Final</td><td>30%</td></tr><tr><td><strong>Total</strong></td><td><strong>100%</strong><td><td></td></tr> </table>| <table> <tr><th>Assessment Item</th><th>Grade Proportion</th></tr><tr><td>Midterm</td><td><span style=\"color:red\">25%<span></td></tr><tr><td><span style=\"color:red\">Blog 1</span></td><td><span style=\"color:red\">7.5%</span></td></tr><tr><td><span style=\"color:red\">Blog 2</span></td><td><span style=\"color:red\">7.5%</span></td></tr><tr><td>#50daysofcode</td><td><span style=\"color:red\">10%</span></td></tr><tr><td><span style=\"color:red\">Data Analysis</span></td><td><span style=\"color:red\">25%<span></td></tr><tr><td>Final</td><td><span style=\"color:red\">25%</span></td></tr><tr><td>**Total**</td><td>**100%**</td></tr> </table>|\n",
    "\n",
    "\n",
    "\n",
    "We, then, use `input()` to obtain data for calculating *'g'*: "
   ]
  },
  {
   "cell_type": "code",
   "execution_count": null,
   "metadata": {},
   "outputs": [],
   "source": [
    "# obtain type of student: grad or undergrad\n",
    "# lower() help us receive input in both upper and lower case input before convert all to lowercase.\n",
    "level = input(\"Enter 'G' for grad or 'U' for undergrad: \").lower()\n",
    "\n",
    "# obtain general data input for both undergrad and grad student : midterm - final exam - instagram post\n",
    "m = float(input(\"Midterm score: \"))                          # m = midterm\n",
    "f = float(input(\"Final Exam score: \"))                       # f = final exam\n",
    "p = float(input(\"Number of days instagram posting completed? \"))  # p = number of days posting on instagram\n",
    "\n",
    "\n",
    "# obtain data input that applies only to undergrad students : one (1) blog\n",
    "b = float(input(\"Blog score: \"))                             # b = blog \n",
    "\n",
    "\n",
    "# obtain data input that applies only to grad students : two (2) blogs and one(1) data analysis\n",
    "b1 = float(input(\"Blog 1 score: \"))                          # b1 = blog 1  \n",
    "b2 = float(input(\"Blog 2 score: \"))                          # b2 = blog 2\n",
    "d = float(input(\"Data Analysis project score: \"))            # d = data analysis"
   ]
  },
  {
   "cell_type": "markdown",
   "metadata": {},
   "source": [
    "\n",
    "### As all of the necessary data has been obtained, it is time for us to code some calculations:\n"
   ]
  },
  {
   "cell_type": "code",
   "execution_count": null,
   "metadata": {},
   "outputs": [],
   "source": [
    "# As we only have 50 point for instagram post, doubling it to scale it to 100 point as other assessment items\n",
    "i = p * 2\n",
    "\n",
    "# total final score for undergraduate students\n",
    "g = (0.3 * (m + f)) + (0.2 * (i + b))\n",
    "\n",
    "# calculations for graduate students\n",
    "b = (b1 + b2) * 0.075              # total proportion score for blog\n",
    "core = (m + f + d) * 0.25          # total proportion score for midterm, final exam and data analysis project\n",
    "g = core + b + (0.1 * i)           # total final score for graduate students"
   ]
  },
  {
   "cell_type": "markdown",
   "metadata": {},
   "source": [
    "---"
   ]
  },
  {
   "cell_type": "markdown",
   "metadata": {},
   "source": [
    "### Putting blocks together : the basic program\n",
    "---"
   ]
  },
  {
   "cell_type": "markdown",
   "metadata": {},
   "source": [
    "Now, let's put everything we have so far together.\n",
    "\n",
    "As the user only can be either undergrad or grad student, we use **`If`** condition to direct the flow of the program.\n",
    "\n",
    "---"
   ]
  },
  {
   "cell_type": "code",
   "execution_count": 5,
   "metadata": {},
   "outputs": [
    {
     "name": "stdout",
     "output_type": "stream",
     "text": [
      "Enter 'G' for grad or 'U' for undergrad: u\n",
      "Midterm score: 79\n",
      "Final Exam score: 85\n",
      "Number of days instagram posting completed: 45\n",
      "Blog score: 97\n",
      "Your overall score is: 86.6\n",
      "Good job! Your final grade for this class is B.\n"
     ]
    }
   ],
   "source": [
    "level = input(\"Enter 'G' for grad or 'U' for undergrad: \").lower()\n",
    "m = float(input(\"Midterm score: \"))\n",
    "f = float(input(\"Final Exam score: \"))\n",
    "p = float(input(\"Number of days instagram posting completed: \"))\n",
    "i = p * 2\n",
    "if level == 'u' :     \n",
    "    b = float(input(\"Blog score: \"))\n",
    "    g = (0.3 * (m + f)) + (0.2 * (i + b))\n",
    "    print('Your overall score is:', g)\n",
    "    if  g < 60 :\n",
    "        print('Sorry! You failed.')\n",
    "    elif g < 66 :\n",
    "        print('Your letter grade is D.')\n",
    "    elif g < 70 :\n",
    "        print('Your letter grade is C-.')\n",
    "    else :\n",
    "        LetterSimilar(level, g)\n",
    "else :\n",
    "    b1 = float(input(\"Blog 1 score: \"))\n",
    "    b2 = float(input(\"Blog 2 score: \"))\n",
    "    d = float(input(\"Data Analysis score: \"))\n",
    "    b = (b1 + b2) * 0.075\n",
    "    core = (m + f + d) * 0.25\n",
    "    g = core + b + (0.1 * i)\n",
    "    print('Your overall score is:', g)\n",
    "    if  g < 70 :\n",
    "        print('Sorry! You failed.')\n",
    "    else :\n",
    "        LetterSimilar(level, g)"
   ]
  },
  {
   "cell_type": "markdown",
   "metadata": {},
   "source": [
    "## Yay! Our program is basically complete!\n",
    "\n",
    "---"
   ]
  },
  {
   "cell_type": "markdown",
   "metadata": {},
   "source": [
    "### Adding details \n",
    "---"
   ]
  },
  {
   "cell_type": "markdown",
   "metadata": {},
   "source": [
    "Although our program now can accurately calculate final grade, it does not mean that it will function properly all the time.  \n",
    "\n",
    "In fact, the program will return error the user enter a string instead of number for a score input.  \n",
    "\n",
    "Therefore, it is crucial for us to use **`try`** and **`except`** before every **`input()`** line of code avoid returning error.\n",
    "\n",
    "We can include our **`scoreError()`** here as well.\n",
    "\n"
   ]
  },
  {
   "cell_type": "code",
   "execution_count": null,
   "metadata": {},
   "outputs": [],
   "source": [
    "level = input(\"Enter 'G' for grad or 'U' for undergrad: \").lower()\n",
    "try : \n",
    "    m = float(input(\"Midterm score: \"))\n",
    "    try :\n",
    "        f = float(input(\"Final Exam score: \"))\n",
    "        try :\n",
    "            p = float(input(\"Number of days instagram posting completed: \"))\n",
    "            i = p * 2\n",
    "            if level == 'u' :     \n",
    "                try :\n",
    "                    b = float(input(\"Blog score: \"))\n",
    "                    g = (0.3 * (m + f)) + (0.2 * (i + b))\n",
    "                    print('Your overall score is:', g)\n",
    "                except :\n",
    "                    scoreError()\n",
    "            else :\n",
    "                try :\n",
    "                    b1 = float(input(\"Blog 1 score: \"))\n",
    "                    try: \n",
    "                        b2 = float(input(\"Blog 2 score: \"))\n",
    "                        try : \n",
    "                            d = float(input(\"Data Analysis score: \")) \n",
    "                            b = (b1 + b2) * 0.075\n",
    "                            core = (m + f + d) * 0.25\n",
    "                            g = core + b + (0.1 * i)\n",
    "                            print('Your overall score is:', g)\n",
    "                        except :\n",
    "                            scoreError()\n",
    "                    except :\n",
    "                        scoreError()\n",
    "                except :\n",
    "                    scoreError()\n",
    "        except :\n",
    "            scoreError()\n",
    "    except :\n",
    "        scoreError()\n",
    "except :\n",
    "    print(\"Invalid. Run the program again and enter 'U' for undergrad or 'G' for grad.\")\n"
   ]
  },
  {
   "cell_type": "markdown",
   "metadata": {},
   "source": [
    "**Now, we continue adding further condition for the correct score range, which is from zero to 100**"
   ]
  },
  {
   "cell_type": "code",
   "execution_count": null,
   "metadata": {},
   "outputs": [],
   "source": [
    "level = input(\"Enter 'G' for grad or 'U' for undergrad: \").lower()\n",
    "if level == 'u' or level == 'g': #ensure the input is either 'u' or 'g' before it goes to the next step\n",
    "    try : \n",
    "        m = float(input(\"Midterm score: \"))\n",
    "        if m < 0 or m > 100 :  #ensure the input within the range\n",
    "            scoreError()\n",
    "        else :\n",
    "            try :\n",
    "                f = float(input(\"Final Exam score: \"))\n",
    "                if f < 0 or f > 100 : #ensure the input within the range\n",
    "                    scoreError()\n",
    "                else :\n",
    "                    try :\n",
    "                        p = float(input(\"Number of days instagram posting completed: \"))\n",
    "                        if p < 0 or p > 50 : #ensure the input within the range\n",
    "                            scoreError()\n",
    "                        else :\n",
    "                            i = p * 2\n",
    "                            if level == 'u' :     \n",
    "                                try :\n",
    "                                    b = float(input(\"Blog score: \"))\n",
    "                                    if b < 0  or b > 100 : #ensure the input within the range\n",
    "                                        scoreError()\n",
    "                                    else : \n",
    "                                        g = (0.3 * (m + f)) + (0.2 * (i + b))\n",
    "                                        print('Your overall score is:', g)\n",
    "                                except :\n",
    "                                    scoreError()\n",
    "                            else :\n",
    "                                try :\n",
    "                                    b1 = float(input(\"Blog 1 score: \"))\n",
    "                                    if b1 < 0 or b1 > 100 : #ensure the input within the range\n",
    "                                        scoreError()\n",
    "                                    else :  \n",
    "                                        try: \n",
    "                                            b2 = float(input(\"Blog 2 score: \"))\n",
    "                                            if b2 <0 or b2 > 100 : #ensure the input within the range\n",
    "                                                scoreError()\n",
    "                                            else : \n",
    "                                                try : \n",
    "                                                    d = float(input(\"Data Analysis score: \"))\n",
    "                                                    if d < 0 or d > 100 :#ensure the input within the range\n",
    "                                                        scoreError()\n",
    "                                                    else : \n",
    "                                                        b = (b1 + b2) * 0.075\n",
    "                                                        core = (m + f + d) * 0.25\n",
    "                                                        g = core + b + (0.1 * i)\n",
    "                                                        print('Your overall score is: ', g)\n",
    "                                                except :\n",
    "                                                    scoreError():\n",
    "                                        except :\n",
    "                                            scoreError():\n",
    "                                except :\n",
    "                                    scoreError():\n",
    "                    except :\n",
    "                        scoreError()\n",
    "            except :\n",
    "                scoreError()\n",
    "    except :\n",
    "        scoreError()\n",
    "else :\n",
    "    print(\"Invalid. Run the program again and enter 'U' for undergrad or 'G' for grad.\")\n"
   ]
  },
  {
   "cell_type": "markdown",
   "metadata": {},
   "source": [
    "---"
   ]
  },
  {
   "cell_type": "markdown",
   "metadata": {},
   "source": [
    "### The complete program\n",
    "---"
   ]
  },
  {
   "cell_type": "markdown",
   "metadata": {},
   "source": [
    "Putting everything all together we will have the program that can calculate the final grade for our Python class this summer.\n",
    "\n",
    "\n",
    "\n",
    " The program will include an introduction of our grade breakdown before obtaining input and calculating your final grade. Since there is no loop built in the program, you must run it again every time the program instructs. \n",
    "    \n",
    "<br>"
   ]
  },
  {
   "cell_type": "code",
   "execution_count": 3,
   "metadata": {},
   "outputs": [
    {
     "name": "stdout",
     "output_type": "stream",
     "text": [
      "\n",
      "\n",
      "\n",
      "Hello there! This program will help you calculate your final grade for our Python class this summer.\n",
      "\n",
      "Since we have both undergrad and grad students in this class, our grade of each type of student will be calculated differently.\n",
      "\n",
      "\n",
      "For undergrad students, the final grade will be comprised of:\n",
      "\t\t\tone (1) Midterm\t\t\t\t30%\n",
      "\t\t\tone (1) Blog\t\t\t\t20%\n",
      "\t\t\tone (1) Final Exam\t\t\t30%\n",
      "\t\t\t#50daysofcode posting\t\t\t20%\n",
      "\n",
      "\t\tLetter grades will be given as:\n",
      "\t\t\tA+\t100-97%\t\tA\t96-93%\t\tA-\t92-90%\n",
      "\t\t\tB+\t89-87%\t\tB\t86-83%\t\tB-\t82-80%\n",
      "\t\t\tC+\t79-76%\t\tC\t75-71%\t\tC-\t70-66%\n",
      "\t\t\tD\t66-60%\t\tF\t< 60%\n",
      "\n",
      "\n",
      "For grad students, the final grade will be comprised of:\n",
      "\t\t\tone (1) Midterm\t\t\t\t25%\n",
      "\t\t\ttwo (2) blogs\t\t\t\t15%\n",
      "\t\t\tone (1) Final Exam\t\t\t25%\n",
      "\t\t\t#50daysofcode posting\t\t\t10%\n",
      "\t\t\tone (1) Data Analysis project\t\t25%\n",
      "\n",
      "\t\tLetter grades will be given as:\n",
      "\t\t\tA+\t100-97%\t\tA\t96-93%\t\tA-\t92-90%\n",
      "\t\t\tB+\t89-87%\t\tB\t86-83%\t\tB-\t82-80%\n",
      "\t\t\tC+\t79-76%\t\tC\t75-71%\t\tF\t<= 70%\n",
      "\n",
      "\n",
      "Remember, 50 is be the maximum score for #50daysofcode assignment while 100 is the maximum scores for the others\n",
      "\n",
      "\n",
      "** To make sure the calculator run probably, follow the instruction. ** \n",
      "\n",
      "\n",
      "\n",
      "Enter 'G' for grad or 'U' for undergrad: g\n",
      "Midterm score: 85\n",
      "Final Exam score: 90\n",
      "Number of days instagram posting completed: 40\n",
      "Blog 1 score: 75\n",
      "Blog 2 score: 60\n",
      "Data Analysis score: 70\n",
      "Your overall score is: 79.375\n",
      "Your final grade is C+.\n"
     ]
    }
   ],
   "source": [
    "# introduction of the program\n",
    "print('\\n\\n\\nHello there! This program will help you calculate your final grade for our Python class this summer.\\n\\nSince we have both undergrad and grad students in this class, our grade of each type of student will be calculated differently.\\n\\n\\nFor undergrad students, the final grade will be comprised of:\\n\\t\\t\\tone (1) Midterm\\t\\t\\t\\t30%\\n\\t\\t\\tone (1) Blog\\t\\t\\t\\t20%\\n\\t\\t\\tone (1) Final Exam\\t\\t\\t30%\\n\\t\\t\\t#50daysofcode posting\\t\\t\\t20%\\n\\n\\t\\tLetter grades will be given as:\\n\\t\\t\\tA+\\t100-97%\\t\\tA\\t96-93%\\t\\tA-\\t92-90%\\n\\t\\t\\tB+\\t89-87%\\t\\tB\\t86-83%\\t\\tB-\\t82-80%\\n\\t\\t\\tC+\\t79-76%\\t\\tC\\t75-71%\\t\\tC-\\t70-66%\\n\\t\\t\\tD\\t66-60%\\t\\tF\\t< 60%\\n\\n\\nFor grad students, the final grade will be comprised of:\\n\\t\\t\\tone (1) Midterm\\t\\t\\t\\t25%\\n\\t\\t\\ttwo (2) blogs\\t\\t\\t\\t15%\\n\\t\\t\\tone (1) Final Exam\\t\\t\\t25%\\n\\t\\t\\t#50daysofcode posting\\t\\t\\t10%\\n\\t\\t\\tone (1) Data Analysis project\\t\\t25%\\n\\n\\t\\tLetter grades will be given as:\\n\\t\\t\\tA+\\t100-97%\\t\\tA\\t96-93%\\t\\tA-\\t92-90%\\n\\t\\t\\tB+\\t89-87%\\t\\tB\\t86-83%\\t\\tB-\\t82-80%\\n\\t\\t\\tC+\\t79-76%\\t\\tC\\t75-71%\\t\\tF\\t<= 70%\\n\\n\\nRemember, 50 is be the maximum score for #50daysofcode assignment while 100 is the maximum scores for the others\\n\\n\\n** To make sure the calculator run probably, follow the instruction. ** \\n\\n\\n')\n",
    "\n",
    "# define a function to calculate the shared portion of letter grade scale\n",
    "def LetterSimilar(level, g) :\n",
    "    if level in ('u', 'g') :\n",
    "        if g >= 97 :\n",
    "            print('Outstanding! Your final grade is A+.')\n",
    "        elif g >= 93 :\n",
    "            print('Excellent! Your final grade is A.')\n",
    "        elif g >= 90 :\n",
    "            print('Awesome! Your final grade is A-.')\n",
    "        elif g >= 87 :\n",
    "            print('Great! Your final grade is B+.')\n",
    "        elif g >= 83 :\n",
    "            print('Good job! Your final grade is B.')\n",
    "        elif g >= 80 :\n",
    "            print('Your final grade is B-.')\n",
    "        elif g >= 76 :\n",
    "            print('Your final grade is C+.')\n",
    "        elif g >= 71 :\n",
    "            print('Your final grade is C.')\n",
    "\n",
    "# define a function to print out error message when user enter invalid input\n",
    "def scoreError():\n",
    "    print(\"Invalid Score. Please run the program again and enter a valid score for this assessment item.\")\n",
    "\n",
    "    \n",
    "# the complete program\n",
    "\n",
    "level = input(\"Enter 'G' for grad or 'U' for undergrad: \").lower()\n",
    "if level == 'u' or level == 'g' :\n",
    "    try : \n",
    "        m = float(input(\"Midterm score: \"))\n",
    "        if m <0  or m > 100 : \n",
    "            scoreError()\n",
    "        else :\n",
    "            try :\n",
    "                f = float(input(\"Final Exam score: \"))\n",
    "                if f < 0 or f > 100 :\n",
    "                    scoreError()\n",
    "                else :\n",
    "                    try :\n",
    "                        p = float(input(\"Number of days instagram posting completed: \"))\n",
    "                        if p < 0 or p > 50 :\n",
    "                            scoreError()\n",
    "                        else :\n",
    "                            i = p * 2\n",
    "                            if level == 'u' :     \n",
    "                                try :\n",
    "                                    b = float(input(\"Blog score: \"))\n",
    "                                    if b < 0 or b > 100 :\n",
    "                                        scoreError()\n",
    "                                    else : \n",
    "                                        g = (0.3 * (m + f)) + (0.2 * (i + b))\n",
    "                                        print('Your overall score is:', g)\n",
    "                                        if  g < 60 :\n",
    "                                            print('Sorry! You failed.')\n",
    "                                        elif g < 66 :\n",
    "                                            print('Your letter grade is D.')\n",
    "                                        elif g < 70 :\n",
    "                                            print('Your letter grade is C-.')\n",
    "                                        else :\n",
    "                                            LetterSimilar(level, g)\n",
    "                                except :\n",
    "                                    scoreError()\n",
    "                            else :\n",
    "                                try :\n",
    "                                    b1 = float(input(\"Blog 1 score: \"))\n",
    "                                    if b1 < 0 or b1 > 100 :\n",
    "                                        scoreError()\n",
    "                                    else :  \n",
    "                                        try: \n",
    "                                            b2 = float(input(\"Blog 2 score: \"))\n",
    "                                            if b2 < 0 or b2 > 100 : \n",
    "                                                scoreError()\n",
    "                                            else : \n",
    "                                                try : \n",
    "                                                    d = float(input(\"Data Analysis score: \"))\n",
    "                                                    if d < 0 or d > 100 :\n",
    "                                                        scoreError()\n",
    "                                                    else : \n",
    "                                                        b = (b1 + b2) * 0.075\n",
    "                                                        core = (m + f + d) * 0.25\n",
    "                                                        g = core + b + (0.1 * i)\n",
    "                                                        print('Your overall score is:', g)\n",
    "                                                        if  g < 60 :\n",
    "                                                            print('Sorry! You failed.')\n",
    "                                                        elif g < 66 :\n",
    "                                                            print('Your letter grade is D.')\n",
    "                                                        elif g < 70 :\n",
    "                                                            print('Your letter grade is C-.')\n",
    "                                                        else :\n",
    "                                                            LetterSimilar(level, g)\n",
    "                                                except :\n",
    "                                                    scoreError()\n",
    "                                        except :\n",
    "                                            scoreError()\n",
    "                                except :\n",
    "                                    scoreError()\n",
    "                    except :\n",
    "                        scoreError()\n",
    "            except :\n",
    "                scoreError()\n",
    "    except :\n",
    "        scoreError()\n",
    "else :\n",
    "    print(\"Invalid! Run the program again and enter 'U' for undergrad or 'G' for grad.\")  \n"
   ]
  },
  {
   "cell_type": "markdown",
   "metadata": {},
   "source": [
    "---"
   ]
  },
  {
   "cell_type": "markdown",
   "metadata": {},
   "source": [
    "## Final words ...\n",
    "---"
   ]
  },
  {
   "cell_type": "markdown",
   "metadata": {},
   "source": [
    "Have you tried it out? Does it work?\n",
    "<br>\n",
    "<br>\n",
    "So now you know how I built this program using mostly `If` condition, `try` and `except`!  \n",
    "<br>\n",
    "I also want to include a `while` loop in this program, but it is too much to do together with such a lot of `if`, `try` and `except`\n",
    "\n",
    "<br>\n",
    "\n",
    "I believe that many will find not only `try` and `except` confusing but also `if` seems to be soooooo lenthy in this program. There are of course always many other ways to build the same program in a simpler way. That is what makes coding so interesting. Everyone will have their own way of coding.\n",
    "\n",
    "<br>\n",
    "\n",
    "If you don't like to use `try` and `except`, and want to find another better way to do it, please check out my up-coming blog!\n",
    "\n",
    "<br>\n",
    "\n",
    "I see you again soon!\n",
    "\n",
    "<br>\n",
    "<br>\n",
    "<br>\n",
    "\n",
    "## ~ Peace ~"
   ]
  }
 ],
 "metadata": {
  "kernelspec": {
   "display_name": "Python 3",
   "language": "python",
   "name": "python3"
  },
  "language_info": {
   "codemirror_mode": {
    "name": "ipython",
    "version": 3
   },
   "file_extension": ".py",
   "mimetype": "text/x-python",
   "name": "python",
   "nbconvert_exporter": "python",
   "pygments_lexer": "ipython3",
   "version": "3.7.4"
  }
 },
 "nbformat": 4,
 "nbformat_minor": 2
}

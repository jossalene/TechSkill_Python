{
 "cells": [
  {
   "cell_type": "markdown",
   "metadata": {},
   "source": [
    "Assume that **x** refers to a number. Write a code segment that prints the number's absolute value WITHOUT using Python's **abs()** function."
   ]
  },
  {
   "cell_type": "code",
   "execution_count": 5,
   "metadata": {},
   "outputs": [
    {
     "name": "stdout",
     "output_type": "stream",
     "text": [
      "Enter a number: -9.7\n",
      "The number absolute value is: 9.7\n"
     ]
    }
   ],
   "source": [
    "try: \n",
    "    x = float(input(\"Enter a number: \"))\n",
    "    if x < 0 :\n",
    "        print('The number absolute value is:', -x)\n",
    "    else :\n",
    "        print('The number absolute value is:', x)\n",
    "except :\n",
    "    print('Invalid input! Please enter a number.')"
   ]
  },
  {
   "cell_type": "code",
   "execution_count": 6,
   "metadata": {},
   "outputs": [
    {
     "name": "stdout",
     "output_type": "stream",
     "text": [
      "Enter a number: -9\n",
      "9\n"
     ]
    }
   ],
   "source": [
    "x = input('Enter a number: ')\n",
    "finder = x.find('-')\n",
    "if finder == -1:\n",
    "    print(x)\n",
    "else: \n",
    "    print(x[finder + 1:])"
   ]
  },
  {
   "cell_type": "markdown",
   "metadata": {},
   "source": [
    "---"
   ]
  },
  {
   "cell_type": "markdown",
   "metadata": {},
   "source": [
    "Write a loop that counts the number of space characters in a string. Recall that the space character is represented as ' '."
   ]
  },
  {
   "cell_type": "code",
   "execution_count": 1,
   "metadata": {},
   "outputs": [
    {
     "name": "stdout",
     "output_type": "stream",
     "text": [
      "Enter a string: I have 5 dollars\n",
      "Space: 3\n"
     ]
    }
   ],
   "source": [
    "count = 0\n",
    "string = str(input('Enter a string: '))\n",
    "for space in string :\n",
    "    if space == ' ':\n",
    "        count += 1\n",
    "print('Space:', count)"
   ]
  },
  {
   "cell_type": "code",
   "execution_count": 6,
   "metadata": {},
   "outputs": [
    {
     "name": "stdout",
     "output_type": "stream",
     "text": [
      "Enter a string: I have 5 dollars\n",
      "Space: 3\n"
     ]
    }
   ],
   "source": [
    "withspace = input('Enter a string: ')\n",
    "spaceless = withspace.replace(' ', '')\n",
    "space = len(withspace) - len(spaceless)\n",
    "print('Space:', space)"
   ]
  },
  {
   "cell_type": "markdown",
   "metadata": {},
   "source": [
    "---"
   ]
  },
  {
   "cell_type": "markdown",
   "metadata": {},
   "source": [
    "Assume `x = 3` and `y = 5`. Write the values of the following expressions:  \n",
    "\n",
    "a. x == y  \n",
    "False\n",
    "\n",
    "b. x > y - 3  \n",
    "True\n",
    "\n",
    "c. x <= y - 2  \n",
    "True\n",
    "\n",
    "d. x == y or x > 2  \n",
    "True\n",
    "\n",
    "e. x != 6 and y > 10  \n",
    "False\n",
    "\n",
    "f. x > 0 and x < 100  \n",
    "True\n"
   ]
  },
  {
   "cell_type": "markdown",
   "metadata": {},
   "source": [
    "---"
   ]
  },
  {
   "cell_type": "markdown",
   "metadata": {},
   "source": [
    "Construct truth tables for the following Boolean expressions:\n",
    "\n",
    "not (A or B)  \n",
    "!=A or !=B\n",
    "\n",
    "not A and not B  \n",
    "!=A and !=B"
   ]
  },
  {
   "cell_type": "code",
   "execution_count": 16,
   "metadata": {},
   "outputs": [
    {
     "name": "stdout",
     "output_type": "stream",
     "text": [
      "A\t\tB\t\tA or B\t\tnot(A OR B)\n",
      "T\t\tT\t\tT\t\t\tF\n",
      "T\t\tF\t\tT\t\t\tF\n",
      "F\t\tT\t\tT\t\t\tF\n",
      "F\t\tF\t\tF\t\t\tT\n"
     ]
    }
   ],
   "source": [
    "print('A\\t\\tB\\t\\tA or B\\t\\tnot(A OR B)\\nT\\t\\tT\\t\\tT\\t\\t\\tF\\nT\\t\\tF\\t\\tT\\t\\t\\tF\\nF\\t\\tT\\t\\tT\\t\\t\\tF\\nF\\t\\tF\\t\\tF\\t\\t\\tT')"
   ]
  },
  {
   "cell_type": "code",
   "execution_count": 17,
   "metadata": {
    "scrolled": true
   },
   "outputs": [
    {
     "name": "stdout",
     "output_type": "stream",
     "text": [
      "A\t\tB\t\tnot A\t\tnot B\t\tnot A AND not B\n",
      "T\t\tT\t\tF\t\tF\t\t\tF\n",
      "T\t\tF\t\tF\t\tT\t\t\tF\n",
      "F\t\tT\t\tT\t\tF\t\t\tF\n",
      "F\t\tF\t\tT\t\tT\t\t\tT\n"
     ]
    }
   ],
   "source": [
    "print('A\\t\\tB\\t\\tnot A\\t\\tnot B\\t\\tnot A AND not B\\nT\\t\\tT\\t\\tF\\t\\tF\\t\\t\\tF\\nT\\t\\tF\\t\\tF\\t\\tT\\t\\t\\tF\\nF\\t\\tT\\t\\tT\\t\\tF\\t\\t\\tF\\nF\\t\\tF\\t\\tT\\t\\tT\\t\\t\\tT')"
   ]
  },
  {
   "cell_type": "markdown",
   "metadata": {},
   "source": [
    "---"
   ]
  },
  {
   "cell_type": "markdown",
   "metadata": {},
   "source": [
    "The variable `x` and `y` refer to numbers. Write a code segment that prompts the user for an arithmetic operator and prints the value obtained by applying that operator to `x` and `y`"
   ]
  },
  {
   "cell_type": "code",
   "execution_count": 15,
   "metadata": {},
   "outputs": [
    {
     "name": "stdout",
     "output_type": "stream",
     "text": [
      "Enter a number x: 847\n",
      "Enter a number y: 999\n",
      "Enter an operator: %\n",
      "847.0\n"
     ]
    }
   ],
   "source": [
    "x = float(input('Enter a number x: '))\n",
    "y = float(input('Enter a number y: '))\n",
    "sign = input('Enter an operator: ')\n",
    "if sign == \"+\":\n",
    "    print(x + y)\n",
    "elif sign == \"-\":\n",
    "    print(x - y)\n",
    "elif sign == \"*\":\n",
    "    print(x * y)\n",
    "elif sign == \"/\":\n",
    "    print(x / y)\n",
    "else:\n",
    "    print(x % y)"
   ]
  },
  {
   "cell_type": "markdown",
   "metadata": {},
   "source": [
    "----\n",
    "\n",
    "## RANDOM"
   ]
  },
  {
   "cell_type": "code",
   "execution_count": 19,
   "metadata": {},
   "outputs": [
    {
     "name": "stdout",
     "output_type": "stream",
     "text": [
      "4  2  1  2  6  5  5  4  1  2  "
     ]
    }
   ],
   "source": [
    "import random\n",
    "\n",
    "#random.randint -- returns a random integer\n",
    "\n",
    "for roll in range(10) :\n",
    "    print(random.randint(1, 6), end = \"  \")"
   ]
  },
  {
   "cell_type": "markdown",
   "metadata": {},
   "source": [
    "**Write a code segment that has the person guess a number from 1 to 5 until they guess the correct one. If the guess is the same as the random integer generated by the computer, say \"Great Guess!\"**"
   ]
  },
  {
   "cell_type": "code",
   "execution_count": 3,
   "metadata": {},
   "outputs": [
    {
     "name": "stdout",
     "output_type": "stream",
     "text": [
      "Enter any integer from 1 to 5: 6\n",
      "Invalid. Your integer need to be from 1 to 5 !!\n",
      "Enter any integer from 1 to 5: 1\n",
      "Random number: 4\n",
      "Ehhh...Try again.\n",
      "Enter any integer from 1 to 5: 3\n",
      "Random number: 4\n",
      "Ehhh...Try again.\n",
      "Enter any integer from 1 to 5: 4\n",
      "Random number: 3\n",
      "Ehhh...Try again.\n",
      "Enter any integer from 1 to 5: 1\n",
      "Random number: 1\n",
      "Great guess!\n"
     ]
    }
   ],
   "source": [
    "import random\n",
    "\n",
    "while True:    \n",
    "    try:\n",
    "        guess = int(input('Enter any integer from 1 to 5: '))\n",
    "        goal = random.randint(1, 5)\n",
    "        if guess in [1, 2, 3, 4, 5] :\n",
    "            if guess != goal :\n",
    "                print('Random number:', goal)\n",
    "                print('Ehhh...Try again.')\n",
    "            else :\n",
    "                print('Random number:', goal)\n",
    "                print('Great guess!')\n",
    "                break\n",
    "        else :\n",
    "            print('Invalid. Your integer need to be from 1 to 5 !!')\n",
    "    except :\n",
    "        print('Invalid. You need to enter a number.')"
   ]
  },
  {
   "cell_type": "code",
   "execution_count": null,
   "metadata": {},
   "outputs": [],
   "source": []
  }
 ],
 "metadata": {
  "kernelspec": {
   "display_name": "Python 3",
   "language": "python",
   "name": "python3"
  },
  "language_info": {
   "codemirror_mode": {
    "name": "ipython",
    "version": 3
   },
   "file_extension": ".py",
   "mimetype": "text/x-python",
   "name": "python",
   "nbconvert_exporter": "python",
   "pygments_lexer": "ipython3",
   "version": "3.7.4"
  }
 },
 "nbformat": 4,
 "nbformat_minor": 2
}

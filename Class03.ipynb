{
 "cells": [
  {
   "cell_type": "markdown",
   "metadata": {},
   "source": [
    "# Lecture 03"
   ]
  },
  {
   "cell_type": "code",
   "execution_count": 48,
   "metadata": {},
   "outputs": [
    {
     "name": "stdout",
     "output_type": "stream",
     "text": [
      "Sum: 75\n"
     ]
    }
   ],
   "source": [
    "def addition(a, b) :\n",
    "    sum = a + b\n",
    "    print(f'Sum: {sum}')\n",
    "\n",
    "addition(50, 25)"
   ]
  },
  {
   "cell_type": "code",
   "execution_count": 6,
   "metadata": {},
   "outputs": [
    {
     "data": {
      "text/plain": [
       "75"
      ]
     },
     "execution_count": 6,
     "metadata": {},
     "output_type": "execute_result"
    }
   ],
   "source": [
    "def addition2(a, b) :\n",
    "    return a+b\n",
    "\n",
    "addition2(50, 25)"
   ]
  },
  {
   "cell_type": "code",
   "execution_count": 7,
   "metadata": {},
   "outputs": [
    {
     "name": "stdout",
     "output_type": "stream",
     "text": [
      "Sum: 5\n"
     ]
    },
    {
     "data": {
      "text/plain": [
       "'Sum: None'"
      ]
     },
     "execution_count": 7,
     "metadata": {},
     "output_type": "execute_result"
    }
   ],
   "source": [
    "f'Sum: {addition(2,3)}'"
   ]
  },
  {
   "cell_type": "code",
   "execution_count": 8,
   "metadata": {},
   "outputs": [
    {
     "name": "stdout",
     "output_type": "stream",
     "text": [
      "The sum is:  5\n"
     ]
    }
   ],
   "source": [
    "print('The sum is: ', 2 + 3)"
   ]
  },
  {
   "cell_type": "code",
   "execution_count": 9,
   "metadata": {},
   "outputs": [],
   "source": [
    "def test() :\n",
    "    print('This line happens BEFORE the return keyword')\n",
    "    return\n",
    "    print('This line happens AFTER the return keyword')"
   ]
  },
  {
   "cell_type": "code",
   "execution_count": 10,
   "metadata": {},
   "outputs": [
    {
     "name": "stdout",
     "output_type": "stream",
     "text": [
      "This line happens BEFORE the return keyword\n"
     ]
    }
   ],
   "source": [
    "test()"
   ]
  },
  {
   "cell_type": "code",
   "execution_count": 17,
   "metadata": {},
   "outputs": [
    {
     "name": "stdout",
     "output_type": "stream",
     "text": [
      "Sum: 9, Product: 20, Difference: -1, Power: 1024\n"
     ]
    }
   ],
   "source": [
    "# a function can contain multiple functions in it\n",
    "def maths(x, y) :\n",
    "    sums = x + y\n",
    "    prod = x * y\n",
    "    diff = x - y\n",
    "    pwr = x**y\n",
    "    return sums, prod, diff, pwr\n",
    "\n",
    "# therefore, we need to assign each fuction within it to get the information needed/categorized\n",
    "s, p, d, r = maths(4, 5)\n",
    "print(f'Sum: {s}, Product: {p}, Difference: {d}, Power: {r}')"
   ]
  },
  {
   "cell_type": "code",
   "execution_count": 13,
   "metadata": {},
   "outputs": [
    {
     "ename": "NameError",
     "evalue": "name 'sums' is not defined",
     "output_type": "error",
     "traceback": [
      "\u001b[1;31m---------------------------------------------------------------------------\u001b[0m",
      "\u001b[1;31mNameError\u001b[0m                                 Traceback (most recent call last)",
      "\u001b[1;32m<ipython-input-13-8d9c2531f919>\u001b[0m in \u001b[0;36m<module>\u001b[1;34m\u001b[0m\n\u001b[0;32m      9\u001b[0m \u001b[1;33m\u001b[0m\u001b[0m\n\u001b[0;32m     10\u001b[0m \u001b[0mmaths\u001b[0m\u001b[1;33m(\u001b[0m\u001b[1;36m4\u001b[0m\u001b[1;33m,\u001b[0m \u001b[1;36m5\u001b[0m\u001b[1;33m)\u001b[0m\u001b[1;33m\u001b[0m\u001b[1;33m\u001b[0m\u001b[0m\n\u001b[1;32m---> 11\u001b[1;33m \u001b[0mprint\u001b[0m\u001b[1;33m(\u001b[0m\u001b[1;34mf'Sum: {sums}, Product: {prod}, Difference: {diff}, Power: {pwr}'\u001b[0m\u001b[1;33m)\u001b[0m\u001b[1;33m\u001b[0m\u001b[1;33m\u001b[0m\u001b[0m\n\u001b[0m",
      "\u001b[1;31mNameError\u001b[0m: name 'sums' is not defined"
     ]
    }
   ],
   "source": [
    "# if we don't assign, it will return an error\n",
    "\n",
    "def maths(x, y) :\n",
    "    sums = x + y\n",
    "    prod = x * y\n",
    "    diff = x - y\n",
    "    pwr = x**y\n",
    "    return sums, prod, diff, pwr\n",
    "\n",
    "maths(4, 5)\n",
    "print(f'Sum: {sums}, Product: {prod}, Difference: {diff}, Power: {pwr}')"
   ]
  },
  {
   "cell_type": "code",
   "execution_count": 16,
   "metadata": {},
   "outputs": [
    {
     "data": {
      "text/plain": [
       "(9, 20, -1, 1024)"
      ]
     },
     "execution_count": 16,
     "metadata": {},
     "output_type": "execute_result"
    }
   ],
   "source": [
    "# if we don't assign, it also can be grouped as a tuple like this\n",
    "\n",
    "def maths(x, y) :\n",
    "    sums = x + y\n",
    "    prod = x * y\n",
    "    diff = x - y\n",
    "    pwr = x**y\n",
    "    return sums, prod, diff, pwr\n",
    "\n",
    "maths(4, 5)\n"
   ]
  },
  {
   "cell_type": "code",
   "execution_count": 19,
   "metadata": {},
   "outputs": [
    {
     "name": "stdout",
     "output_type": "stream",
     "text": [
      "9\n"
     ]
    }
   ],
   "source": [
    "print(s)"
   ]
  },
  {
   "cell_type": "code",
   "execution_count": 20,
   "metadata": {},
   "outputs": [
    {
     "data": {
      "text/plain": [
       "18"
      ]
     },
     "execution_count": 20,
     "metadata": {},
     "output_type": "execute_result"
    }
   ],
   "source": [
    "str1 = \"Data Visualization\"\n",
    "len(str1)"
   ]
  },
  {
   "cell_type": "markdown",
   "metadata": {},
   "source": [
    "---"
   ]
  },
  {
   "cell_type": "markdown",
   "metadata": {},
   "source": [
    "# If ...\n",
    "\n",
    "decision in programing == branching"
   ]
  },
  {
   "cell_type": "code",
   "execution_count": 25,
   "metadata": {},
   "outputs": [
    {
     "name": "stdout",
     "output_type": "stream",
     "text": [
      "See you again next year!\n"
     ]
    }
   ],
   "source": [
    "# two-way decsion\n",
    "\n",
    "grade = 50\n",
    "if grade >= 70:\n",
    "    print(\"You have passed the class!\")\n",
    "else :\n",
    "    print(\"See you again next year!\")"
   ]
  },
  {
   "cell_type": "code",
   "execution_count": null,
   "metadata": {},
   "outputs": [],
   "source": [
    "# multi-way decision\n",
    "\n",
    "grade = int(input(\"Enter your grade: \"))\n",
    "\n",
    "if grade >= 85:\n",
    "    print('WOW! You rocked this!')\n",
    "elif grade >= 70 :\n",
    "    print(\"You passed the class!\")\n",
    "else :\n",
    "    print(\"You failed\")"
   ]
  },
  {
   "cell_type": "code",
   "execution_count": 5,
   "metadata": {},
   "outputs": [
    {
     "name": "stdout",
     "output_type": "stream",
     "text": [
      "Enter your grade: 90\n",
      "B\n"
     ]
    }
   ],
   "source": [
    "grade = float(input('Enter your grade: '))\n",
    "if grade >= 98 :\n",
    "    print(\"A\")\n",
    "elif grade >= 80 :\n",
    "    print(\"B\")\n",
    "elif grade >= 70 :\n",
    "    print(\"C\")\n",
    "elif grade >= 60 :\n",
    "    print(\"D\")\n",
    "else :\n",
    "    print(\"F\")"
   ]
  },
  {
   "cell_type": "code",
   "execution_count": 11,
   "metadata": {},
   "outputs": [
    {
     "name": "stdout",
     "output_type": "stream",
     "text": [
      "Enter your grade: 90\n",
      "B\n"
     ]
    }
   ],
   "source": [
    "score = float(input('Enter your grade: '))\n",
    "def grade(grade) :\n",
    "    if grade >= 98 :\n",
    "        print(\"A\")\n",
    "    elif grade >= 80 :\n",
    "        print(\"B\")\n",
    "    elif grade >= 70 :\n",
    "        print(\"C\")\n",
    "    elif grade >= 60 :\n",
    "        print(\"D\")\n",
    "    else :\n",
    "        print(\"F\")\n",
    "\n",
    "grade(score)"
   ]
  },
  {
   "cell_type": "markdown",
   "metadata": {},
   "source": [
    "----"
   ]
  },
  {
   "cell_type": "markdown",
   "metadata": {},
   "source": [
    "## Practice\n",
    "\n",
    "**Write a function `difference` that has two parameters, a and b. The function should return `true` if a and b are different value; return `false` otherwise** "
   ]
  },
  {
   "cell_type": "code",
   "execution_count": 71,
   "metadata": {},
   "outputs": [
    {
     "name": "stdout",
     "output_type": "stream",
     "text": [
      "Enter a number: 6\n",
      "Enter another number: 8\n",
      "It's True to say that 6.0 and 8.0 are different.\n"
     ]
    }
   ],
   "source": [
    "try :\n",
    "    a = float(input(\"Enter a number: \"))\n",
    "    b = float(input(\"Enter another number: \"))\n",
    "    if a == float and b == float :\n",
    "        print(a)\n",
    "        print(b)\n",
    "        def different(a, b) :\n",
    "            if a != b :\n",
    "                return True\n",
    "            else :\n",
    "                return False\n",
    "    print(\"It's\", different(a, b), \"to say that\", a, \"and\", b, \"are different.\")\n",
    "except :\n",
    "    print('Please enter a number')"
   ]
  },
  {
   "cell_type": "code",
   "execution_count": 69,
   "metadata": {},
   "outputs": [
    {
     "name": "stdout",
     "output_type": "stream",
     "text": [
      "Enter a number: 5\n",
      "Enter another number: 5\n",
      "It's False to say that 5.0 and 5.0 are different.\n"
     ]
    }
   ],
   "source": [
    "try :\n",
    "    a = float(input(\"Enter a number: \"))\n",
    "    b = float(input(\"Enter another number: \"))\n",
    "    if a == float and b == float :\n",
    "        print(a)\n",
    "        print(b)\n",
    "        def different(a, b) :\n",
    "            if a != b :\n",
    "                return bool(a!=b)\n",
    "            else :\n",
    "                return bool(a!=b)\n",
    "    print(\"It's\", different(a, b), \"to say that\", a, \"and\", b, \"are different.\")\n",
    "except :\n",
    "    print('Please enter a number.')"
   ]
  },
  {
   "cell_type": "code",
   "execution_count": 26,
   "metadata": {},
   "outputs": [],
   "source": [
    "x = 5.4\n",
    "x = '5.4'\n",
    "x = 5"
   ]
  },
  {
   "cell_type": "code",
   "execution_count": 30,
   "metadata": {},
   "outputs": [],
   "source": [
    "a = 9\n",
    "b = 2\n",
    "c = a / b\n",
    "d = a**b\n",
    "e = a % b\n",
    "f = a * b"
   ]
  },
  {
   "cell_type": "code",
   "execution_count": 31,
   "metadata": {},
   "outputs": [
    {
     "data": {
      "text/plain": [
       "1"
      ]
     },
     "execution_count": 31,
     "metadata": {},
     "output_type": "execute_result"
    }
   ],
   "source": [
    "9 % 2"
   ]
  },
  {
   "cell_type": "code",
   "execution_count": 37,
   "metadata": {},
   "outputs": [
    {
     "data": {
      "text/plain": [
       "4"
      ]
     },
     "execution_count": 37,
     "metadata": {},
     "output_type": "execute_result"
    }
   ],
   "source": [
    "9 // 2"
   ]
  },
  {
   "cell_type": "code",
   "execution_count": 35,
   "metadata": {},
   "outputs": [],
   "source": [
    "a = 3\n",
    "a += 5"
   ]
  },
  {
   "cell_type": "code",
   "execution_count": 36,
   "metadata": {},
   "outputs": [
    {
     "data": {
      "text/plain": [
       "5"
      ]
     },
     "execution_count": 36,
     "metadata": {},
     "output_type": "execute_result"
    }
   ],
   "source": [
    "a = 16\n",
    "b = a // 3\n",
    "b"
   ]
  },
  {
   "cell_type": "code",
   "execution_count": 38,
   "metadata": {},
   "outputs": [
    {
     "data": {
      "text/plain": [
       "(0, 27)"
      ]
     },
     "execution_count": 38,
     "metadata": {},
     "output_type": "execute_result"
    }
   ],
   "source": [
    "12 % 4, 3 ** 3"
   ]
  },
  {
   "cell_type": "markdown",
   "metadata": {},
   "source": [
    "list is mutable"
   ]
  },
  {
   "cell_type": "code",
   "execution_count": 42,
   "metadata": {},
   "outputs": [
    {
     "data": {
      "text/plain": [
       "False"
      ]
     },
     "execution_count": 42,
     "metadata": {},
     "output_type": "execute_result"
    }
   ],
   "source": [
    "name = 'Mary'\n",
    "id1 = id(name)\n",
    "name ='Hanh'\n",
    "id2 = id(name)\n",
    "id1 == id2"
   ]
  },
  {
   "cell_type": "code",
   "execution_count": 40,
   "metadata": {},
   "outputs": [
    {
     "data": {
      "text/plain": [
       "2649991596080"
      ]
     },
     "execution_count": 40,
     "metadata": {},
     "output_type": "execute_result"
    }
   ],
   "source": [
    "name ='Hanh'\n",
    "id(name)"
   ]
  },
  {
   "cell_type": "markdown",
   "metadata": {},
   "source": [
    "string is immutable thus the id is different if re-assigned"
   ]
  },
  {
   "cell_type": "code",
   "execution_count": 43,
   "metadata": {},
   "outputs": [
    {
     "ename": "SyntaxError",
     "evalue": "invalid syntax (<ipython-input-43-5d638ae70f1a>, line 1)",
     "output_type": "error",
     "traceback": [
      "\u001b[1;36m  File \u001b[1;32m\"<ipython-input-43-5d638ae70f1a>\"\u001b[1;36m, line \u001b[1;32m1\u001b[0m\n\u001b[1;33m    my_str = 'Hey there! I'm learning Python\u001b[0m\n\u001b[1;37m                           ^\u001b[0m\n\u001b[1;31mSyntaxError\u001b[0m\u001b[1;31m:\u001b[0m invalid syntax\n"
     ]
    }
   ],
   "source": [
    "my_str = 'Hey there! I'm learning Python"
   ]
  },
  {
   "cell_type": "code",
   "execution_count": 46,
   "metadata": {},
   "outputs": [
    {
     "name": "stdout",
     "output_type": "stream",
     "text": [
      "x: 4.5\n",
      "y: 2.3\n",
      "4.54.5\n"
     ]
    }
   ],
   "source": [
    "x = input('x: ')\n",
    "y = int(float(input('y: ')))\n",
    "print(x * y)"
   ]
  },
  {
   "cell_type": "code",
   "execution_count": 47,
   "metadata": {},
   "outputs": [
    {
     "name": "stdout",
     "output_type": "stream",
     "text": [
      "3b4\n"
     ]
    }
   ],
   "source": [
    "mac = 'b4:6d:83:77:85:f3'\n",
    "print(mac[-1] + mac[:2])"
   ]
  },
  {
   "cell_type": "code",
   "execution_count": null,
   "metadata": {},
   "outputs": [],
   "source": []
  }
 ],
 "metadata": {
  "kernelspec": {
   "display_name": "Python 3",
   "language": "python",
   "name": "python3"
  },
  "language_info": {
   "codemirror_mode": {
    "name": "ipython",
    "version": 3
   },
   "file_extension": ".py",
   "mimetype": "text/x-python",
   "name": "python",
   "nbconvert_exporter": "python",
   "pygments_lexer": "ipython3",
   "version": "3.7.4"
  }
 },
 "nbformat": 4,
 "nbformat_minor": 2
}

{
 "cells": [
  {
   "cell_type": "markdown",
   "metadata": {},
   "source": [
    "# Speech Sound Indicator"
   ]
  },
  {
   "cell_type": "code",
   "execution_count": 4,
   "metadata": {},
   "outputs": [
    {
     "name": "stdout",
     "output_type": "stream",
     "text": [
      "Enter a letter: e\n",
      "The letter you entered is a vowel.\n"
     ]
    }
   ],
   "source": [
    "letter = input('Enter a letter: ').lower()\n",
    "vowel = ['a', 'e', 'i', 'o', 'u']\n",
    "if letter in vowel :\n",
    "    print('The letter you entered is a vowel.')\n",
    "elif letter == 'y' :\n",
    "    print(\"'y' can be either a vowel or a consonant.\")\n",
    "else :\n",
    "    print('The letter you entered is a consonant.')\n"
   ]
  },
  {
   "cell_type": "markdown",
   "metadata": {},
   "source": [
    "**The complete vowel/consonant indicator program.**"
   ]
  },
  {
   "cell_type": "code",
   "execution_count": 4,
   "metadata": {
    "scrolled": true
   },
   "outputs": [
    {
     "name": "stdout",
     "output_type": "stream",
     "text": [
      "This is a vowel/consonant indicator. When finish, enter 'done' to end.\n",
      "Enter a letter: a\n",
      "The letter you entered is a vowel.\n",
      "Enter a letter: e\n",
      "The letter you entered is a vowel.\n",
      "Enter a letter: b\n",
      "The letter you entered is a consonant.\n",
      "Enter a letter: j\n",
      "The letter you entered is a consonant.\n",
      "Enter a letter: 7\n",
      "Invalid input!! Please enter a letter.\n",
      "Enter a letter: run\n",
      "Invalid input!! Please enter a letter.\n",
      "Enter a letter: done\n"
     ]
    }
   ],
   "source": [
    "print(\"This is a vowel/consonant indicator. When finish, enter 'done' to end.\")\n",
    "vowel = ['a', 'e', 'i', 'o', 'u']\n",
    "while True :\n",
    "    letter = input('Enter a letter: ').lower()\n",
    "    number = letter.isnumeric()\n",
    "    if len(letter) == 1 and number == False:      \n",
    "        if letter in vowel :\n",
    "            print('The letter you entered is a vowel.')\n",
    "        elif letter == 'y' :\n",
    "            print(\"'y' can be either a vowel or a consonant.\")        \n",
    "        else :\n",
    "            print('The letter you entered is a consonant.')\n",
    "    elif letter == 'done' :\n",
    "        break\n",
    "    else :\n",
    "        print(\"Invalid input!! Please enter a letter.\")        "
   ]
  },
  {
   "cell_type": "markdown",
   "metadata": {},
   "source": [
    "----"
   ]
  },
  {
   "cell_type": "markdown",
   "metadata": {},
   "source": [
    "# Days in Months Indicator"
   ]
  },
  {
   "cell_type": "markdown",
   "metadata": {},
   "source": [
    "**The length of a month varies from 28 to 31 days. Create a program that reads the names of a month from the user as a string. The your program should display the number of days in that month. Display \"28 or 29\" for February so we account for the leap year.**"
   ]
  },
  {
   "cell_type": "code",
   "execution_count": 3,
   "metadata": {},
   "outputs": [
    {
     "name": "stdout",
     "output_type": "stream",
     "text": [
      "Enter a month: feb\n",
      "The month you entered has 28 or 29 days.\n"
     ]
    }
   ],
   "source": [
    "month = input('Enter a month: ').lower()\n",
    "thirty = ['april', '4', 'apr', 'june', '6', 'jun', 'september', '9', 'sep']\n",
    "if month in thirty :\n",
    "    print('The month you entered has 30 days.')\n",
    "elif month == 'february' or month == '2' or month == 'feb':\n",
    "    print('The month you entered has 28 or 29 days.')\n",
    "else :\n",
    "    print('The month you entered has 31 days.')"
   ]
  },
  {
   "cell_type": "code",
   "execution_count": 1,
   "metadata": {},
   "outputs": [
    {
     "name": "stdout",
     "output_type": "stream",
     "text": [
      "Enter a month: june\n",
      "The month you entered has 30 days.\n",
      "Enter a month: jan\n",
      "The month you entered has 31 days.\n",
      "Enter a month: 13\n",
      "The month you entered has 31 days.\n",
      "Enter a month: done\n"
     ]
    }
   ],
   "source": [
    "\n",
    "thirty = ['april', '4', 'apr', 'june', '6', 'jun', 'september', '9', 'sep']\n",
    "while True:\n",
    "    month = input('Enter a month: ').lower()\n",
    "    if month in thirty :\n",
    "        print('The month you entered has 30 days.')\n",
    "    elif month == 'february' or month == '2' or month == 'feb':\n",
    "        print('The month you entered has 28 or 29 days.')\n",
    "    elif month == 'done' :\n",
    "        break\n",
    "    else :\n",
    "        print('The month you entered has 31 days.')"
   ]
  },
  {
   "cell_type": "markdown",
   "metadata": {},
   "source": [
    "**The complete program to indicate the number of days in any month.**"
   ]
  },
  {
   "cell_type": "code",
   "execution_count": 1,
   "metadata": {},
   "outputs": [
    {
     "name": "stdout",
     "output_type": "stream",
     "text": [
      "*****When you finish, enter 'done'.*****\n",
      "Enter a month: jan\n",
      "The month you entered has 31 days.\n",
      "Enter a month: 02\n",
      "The month you entered has 28 or 29 days.\n",
      "Enter a month: aloha\n",
      "Invalid input! Please enter a month\n",
      "Enter a month: August\n",
      "The month you entered has 31 days.\n",
      "Enter a month: done\n"
     ]
    }
   ],
   "source": [
    "mdict = {'january' : ['january', '1', 'jan', '01', 'one', 'first'], \n",
    "         'february' : ['february', '2', 'feb', '02', 'two', 'second'],\n",
    "         'march' : ['march', '3', 'mar', '03', 'three', 'third'], \n",
    "         'april' : ['april', '4', 'apr', '04', 'four', 'fourth'], \n",
    "         'may' : ['may', '5', '05', 'five', 'fifth'],\n",
    "         'june' : ['june', '6', 'jun', '06', 'six', 'sixth'],\n",
    "         'july' : ['july', '7', 'jul', '07', 'seven', 'seventh'], \n",
    "         'august' : ['august', '8', 'aug', '08', 'eight', 'eighth'],\n",
    "         'september' : ['september', '9', 'sep', '09', 'nine', 'ninth'], \n",
    "         'october' : ['october', '10', 'oct', 'ten', 'tenth'], \n",
    "         'november' : ['november', '11', 'nov', 'eleven', 'eleventh'], \n",
    "         'december' : ['december', '12', 'dec', 'twelve', 'twelfth'] }\n",
    "mlist = list(mdict.values())\n",
    "m30 = mlist[3] + mlist[5] + mlist[8] + mlist[10]\n",
    "m31 = mlist[0] + mlist[2] + mlist[4] + mlist[6] + mlist[7] + mlist[9] + mlist[11]\n",
    "print(\"*****When you finish, enter 'done'.*****\" )\n",
    "while True :\n",
    "        month = input('Enter a month: ').lower()      \n",
    "        if month in m30 :\n",
    "            print('The month you entered has 30 days.')\n",
    "        elif month in mlist[1] :\n",
    "            print('The month you entered has 28 or 29 days.')\n",
    "        elif month in m31 : \n",
    "            print('The month you entered has 31 days.')\n",
    "        elif month == 'done' :\n",
    "            break\n",
    "        else :\n",
    "            print('Invalid input! Please enter a month')"
   ]
  },
  {
   "cell_type": "markdown",
   "metadata": {},
   "source": [
    "-------------"
   ]
  },
  {
   "cell_type": "markdown",
   "metadata": {},
   "source": [
    "# Zodiac Indicator"
   ]
  },
  {
   "cell_type": "code",
   "execution_count": 2,
   "metadata": {},
   "outputs": [
    {
     "name": "stdout",
     "output_type": "stream",
     "text": [
      "Enter your year of birth (yyyy): 2011\n",
      "You are a Hare.\n"
     ]
    }
   ],
   "source": [
    "year = int(input(\"Enter your year of birth (yyyy): \"))\n",
    "remainder = year % 12\n",
    "if remainder == 8 :\n",
    "    print('You are a Dragon.')\n",
    "elif remainder == 9 :\n",
    "    print('You are a Snake.')\n",
    "elif remainder == 10 :\n",
    "    print('You are a Horse.')\n",
    "elif remainder == 11 :\n",
    "    print('You are a Sheep.')\n",
    "elif remainder == 0 :\n",
    "    print('You are a Monkey.')\n",
    "elif remainder == 1 :\n",
    "    print('You are a Rooster.')\n",
    "elif remainder == 2 :\n",
    "    print('You are a Dog.')\n",
    "elif remainder == 3 :\n",
    "    print('You are a Pig.')\n",
    "elif remainder == 4 :\n",
    "    print('You are a Rat.')\n",
    "elif remainder == 5 :\n",
    "    print('You are an Ox.')\n",
    "elif remainder == 6 :\n",
    "    print('You are a Tiger.')\n",
    "else :\n",
    "    print('You are a Hare.')"
   ]
  },
  {
   "cell_type": "markdown",
   "metadata": {},
   "source": [
    "**The complete Chinese Zodiac indicator**"
   ]
  },
  {
   "cell_type": "code",
   "execution_count": 1,
   "metadata": {},
   "outputs": [
    {
     "name": "stdout",
     "output_type": "stream",
     "text": [
      "To end the Zodiac indicator, enter 'done'.\n",
      "Enter the year of birth: 1989\n",
      "Your zodiac is:  Snake\n",
      "Enter the year of birth: 1966\n",
      "Your zodiac is:  Horse\n",
      "Enter the year of birth: 1992\n",
      "Your zodiac is:  Monkey\n",
      "Enter the year of birth: run\n",
      "Error! Please enter the year of birth.\n",
      "Enter the year of birth: done\n"
     ]
    }
   ],
   "source": [
    "\n",
    "print(\"To end the Zodiac indicator, enter 'done'.\")\n",
    "\n",
    "zodiac_dict ={8 : 'Dragon', 9 : 'Snake', 10 : 'Horse', 11 : 'Sheep', \n",
    "              0 : 'Monkey', 1 : 'Rooster', 2 : 'Dog', 3 : 'Pig', 4 : 'Rat', \n",
    "              5 : 'Ox', 6 : ' Tiger', 7 : 'Hare'}\n",
    "while True :  \n",
    "    year = input(\"Enter the year of birth: \") \n",
    "    try:\n",
    "        remainder = int(year) % 12\n",
    "        for key in zodiac_dict :\n",
    "            if remainder == key :\n",
    "                print('Your zodiac is: ', zodiac_dict[key])\n",
    "    except:\n",
    "        if year == 'done' :\n",
    "            break\n",
    "        else :\n",
    "            print('Error! Please enter the year of birth.')\n",
    "  "
   ]
  }
 ],
 "metadata": {
  "kernelspec": {
   "display_name": "Python 3",
   "language": "python",
   "name": "python3"
  },
  "language_info": {
   "codemirror_mode": {
    "name": "ipython",
    "version": 3
   },
   "file_extension": ".py",
   "mimetype": "text/x-python",
   "name": "python",
   "nbconvert_exporter": "python",
   "pygments_lexer": "ipython3",
   "version": "3.7.4"
  }
 },
 "nbformat": 4,
 "nbformat_minor": 2
}

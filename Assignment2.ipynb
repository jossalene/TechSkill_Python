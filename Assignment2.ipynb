{
 "cells": [
  {
   "cell_type": "markdown",
   "metadata": {
    "colab_type": "text",
    "id": "yZ8BhQWlRS65"
   },
   "source": [
    "Write a piece of code that plots the historical populations of Cuba, Dominican Republic, Haiti, and Puerto Rico using the data in the file <u>islandsHistPop.csv</u>.  You may add as many code cells as you need.  Make sure to examine the data file.\n",
    "\n",
    "1.  Which island has the largest population?\n",
    "2.  When did the population of the Dominican Republic pass that of Haiti?\n"
   ]
  },
  {
   "cell_type": "code",
   "execution_count": 3,
   "metadata": {
    "colab": {},
    "colab_type": "code",
    "id": "hYVKJOl_Oogj"
   },
   "outputs": [],
   "source": [
    "import pandas as pd"
   ]
  },
  {
   "cell_type": "code",
   "execution_count": 10,
   "metadata": {
    "colab": {},
    "colab_type": "code",
    "id": "pnVjek5HShc9"
   },
   "outputs": [
    {
     "data": {
      "text/html": [
       "<div>\n",
       "<style scoped>\n",
       "    .dataframe tbody tr th:only-of-type {\n",
       "        vertical-align: middle;\n",
       "    }\n",
       "\n",
       "    .dataframe tbody tr th {\n",
       "        vertical-align: top;\n",
       "    }\n",
       "\n",
       "    .dataframe thead th {\n",
       "        text-align: right;\n",
       "    }\n",
       "</style>\n",
       "<table border=\"1\" class=\"dataframe\">\n",
       "  <thead>\n",
       "    <tr style=\"text-align: right;\">\n",
       "      <th></th>\n",
       "      <th>Year</th>\n",
       "      <th>Cuba</th>\n",
       "      <th>Dominican Republic</th>\n",
       "      <th>Haiti</th>\n",
       "      <th>Puerto Rico</th>\n",
       "    </tr>\n",
       "  </thead>\n",
       "  <tbody>\n",
       "    <tr>\n",
       "      <td>0</td>\n",
       "      <td>1850</td>\n",
       "      <td>907200</td>\n",
       "      <td>136500</td>\n",
       "      <td>543000</td>\n",
       "      <td>380000</td>\n",
       "    </tr>\n",
       "    <tr>\n",
       "      <td>1</td>\n",
       "      <td>1860</td>\n",
       "      <td>1099400</td>\n",
       "      <td>200000</td>\n",
       "      <td>572000</td>\n",
       "      <td>583300</td>\n",
       "    </tr>\n",
       "    <tr>\n",
       "      <td>2</td>\n",
       "      <td>1870</td>\n",
       "      <td>1321700</td>\n",
       "      <td>290000</td>\n",
       "      <td>686000</td>\n",
       "      <td>625000</td>\n",
       "    </tr>\n",
       "    <tr>\n",
       "      <td>3</td>\n",
       "      <td>1880</td>\n",
       "      <td>1409900</td>\n",
       "      <td>300000</td>\n",
       "      <td>880000</td>\n",
       "      <td>754300</td>\n",
       "    </tr>\n",
       "    <tr>\n",
       "      <td>4</td>\n",
       "      <td>1890</td>\n",
       "      <td>1609100</td>\n",
       "      <td>340000</td>\n",
       "      <td>1085300</td>\n",
       "      <td>839000</td>\n",
       "    </tr>\n",
       "    <tr>\n",
       "      <td>5</td>\n",
       "      <td>1900</td>\n",
       "      <td>1600000</td>\n",
       "      <td>600000</td>\n",
       "      <td>1294400</td>\n",
       "      <td>986000</td>\n",
       "    </tr>\n",
       "    <tr>\n",
       "      <td>6</td>\n",
       "      <td>1910</td>\n",
       "      <td>2219000</td>\n",
       "      <td>740000</td>\n",
       "      <td>2029700</td>\n",
       "      <td>1118000</td>\n",
       "    </tr>\n",
       "    <tr>\n",
       "      <td>7</td>\n",
       "      <td>1920</td>\n",
       "      <td>2997000</td>\n",
       "      <td>879000</td>\n",
       "      <td>1631300</td>\n",
       "      <td>1299800</td>\n",
       "    </tr>\n",
       "    <tr>\n",
       "      <td>8</td>\n",
       "      <td>1930</td>\n",
       "      <td>3647000</td>\n",
       "      <td>1256000</td>\n",
       "      <td>2380000</td>\n",
       "      <td>1543900</td>\n",
       "    </tr>\n",
       "    <tr>\n",
       "      <td>9</td>\n",
       "      <td>1940</td>\n",
       "      <td>4291100</td>\n",
       "      <td>1674000</td>\n",
       "      <td>2751000</td>\n",
       "      <td>1869300</td>\n",
       "    </tr>\n",
       "    <tr>\n",
       "      <td>10</td>\n",
       "      <td>1950</td>\n",
       "      <td>5516000</td>\n",
       "      <td>2353000</td>\n",
       "      <td>3097000</td>\n",
       "      <td>2210700</td>\n",
       "    </tr>\n",
       "    <tr>\n",
       "      <td>11</td>\n",
       "      <td>1960</td>\n",
       "      <td>7027000</td>\n",
       "      <td>3231000</td>\n",
       "      <td>3623000</td>\n",
       "      <td>2349500</td>\n",
       "    </tr>\n",
       "    <tr>\n",
       "      <td>12</td>\n",
       "      <td>1970</td>\n",
       "      <td>8569100</td>\n",
       "      <td>4423000</td>\n",
       "      <td>4235000</td>\n",
       "      <td>2712000</td>\n",
       "    </tr>\n",
       "    <tr>\n",
       "      <td>13</td>\n",
       "      <td>1980</td>\n",
       "      <td>9724000</td>\n",
       "      <td>5697000</td>\n",
       "      <td>5353000</td>\n",
       "      <td>3196500</td>\n",
       "    </tr>\n",
       "    <tr>\n",
       "      <td>14</td>\n",
       "      <td>1990</td>\n",
       "      <td>10694500</td>\n",
       "      <td>7170000</td>\n",
       "      <td>6486000</td>\n",
       "      <td>3522000</td>\n",
       "    </tr>\n",
       "    <tr>\n",
       "      <td>15</td>\n",
       "      <td>2000</td>\n",
       "      <td>11142000</td>\n",
       "      <td>8442500</td>\n",
       "      <td>7180300</td>\n",
       "      <td>3808600</td>\n",
       "    </tr>\n",
       "    <tr>\n",
       "      <td>16</td>\n",
       "      <td>2010</td>\n",
       "      <td>11925000</td>\n",
       "      <td>9335000</td>\n",
       "      <td>8854000</td>\n",
       "      <td>4169000</td>\n",
       "    </tr>\n",
       "    <tr>\n",
       "      <td>17</td>\n",
       "      <td>2015</td>\n",
       "      <td>12205000</td>\n",
       "      <td>9900000</td>\n",
       "      <td>9434000</td>\n",
       "      <td>4287000</td>\n",
       "    </tr>\n",
       "  </tbody>\n",
       "</table>\n",
       "</div>"
      ],
      "text/plain": [
       "    Year      Cuba  Dominican Republic    Haiti  Puerto Rico\n",
       "0   1850    907200              136500   543000       380000\n",
       "1   1860   1099400              200000   572000       583300\n",
       "2   1870   1321700              290000   686000       625000\n",
       "3   1880   1409900              300000   880000       754300\n",
       "4   1890   1609100              340000  1085300       839000\n",
       "5   1900   1600000              600000  1294400       986000\n",
       "6   1910   2219000              740000  2029700      1118000\n",
       "7   1920   2997000              879000  1631300      1299800\n",
       "8   1930   3647000             1256000  2380000      1543900\n",
       "9   1940   4291100             1674000  2751000      1869300\n",
       "10  1950   5516000             2353000  3097000      2210700\n",
       "11  1960   7027000             3231000  3623000      2349500\n",
       "12  1970   8569100             4423000  4235000      2712000\n",
       "13  1980   9724000             5697000  5353000      3196500\n",
       "14  1990  10694500             7170000  6486000      3522000\n",
       "15  2000  11142000             8442500  7180300      3808600\n",
       "16  2010  11925000             9335000  8854000      4169000\n",
       "17  2015  12205000             9900000  9434000      4287000"
      ]
     },
     "execution_count": 10,
     "metadata": {},
     "output_type": "execute_result"
    }
   ],
   "source": [
    "island = pd.read_csv(\"islandsHistPop.csv\", skiprows = 3)\n",
    "island"
   ]
  },
  {
   "cell_type": "code",
   "execution_count": 14,
   "metadata": {},
   "outputs": [
    {
     "data": {
      "text/plain": [
       "<matplotlib.axes._subplots.AxesSubplot at 0x1d706519848>"
      ]
     },
     "execution_count": 14,
     "metadata": {},
     "output_type": "execute_result"
    },
    {
     "data": {
      "image/png": "[encoded data removed]",
      "text/plain": [
       "<Figure size 432x288 with 1 Axes>"
      ]
     },
     "metadata": {
      "needs_background": "light"
     },
     "output_type": "display_data"
    }
   ],
   "source": [
    "island.plot(x = \"Year\", title = \"Population of Different Islands Over the Year\")"
   ]
  },
  {
   "cell_type": "markdown",
   "metadata": {},
   "source": [
    "1. Cuba has the largest population  \n",
    "2. Puerto Rico population started to pass Haiti in 1970. "
   ]
  },
  {
   "cell_type": "code",
   "execution_count": null,
   "metadata": {},
   "outputs": [],
   "source": []
  }
 ],
 "metadata": {
  "colab": {
   "name": "Untitled7.ipynb",
   "provenance": []
  },
  "kernelspec": {
   "display_name": "Python 3",
   "language": "python",
   "name": "python3"
  },
  "language_info": {
   "codemirror_mode": {
    "name": "ipython",
    "version": 3
   },
   "file_extension": ".py",
   "mimetype": "text/x-python",
   "name": "python",
   "nbconvert_exporter": "python",
   "pygments_lexer": "ipython3",
   "version": "3.7.4"
  }
 },
 "nbformat": 4,
 "nbformat_minor": 1
}

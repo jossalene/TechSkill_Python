{
 "cells": [
  {
   "cell_type": "markdown",
   "metadata": {},
   "source": [
    "# Chapter 2: Variables, expressions, and statements"
   ]
  },
  {
   "cell_type": "markdown",
   "metadata": {},
   "source": [
    "-----------------"
   ]
  },
  {
   "cell_type": "markdown",
   "metadata": {},
   "source": [
    "### Values and Types"
   ]
  },
  {
   "cell_type": "markdown",
   "metadata": {},
   "source": [
    "**Value** - one of the basic things a program works with, like a letter or a number.\n",
    "\n",
    "**Type of value**\n",
    "\n",
    "- Integer (int) : number, ex: 2\n",
    "\n",
    "- String (str) : numbers/letters enclosed in **quotation marks**, ex: \"Hello, World!\"\n",
    "\n",
    "- Float (float) : number with decimal point as it represent a format called *floating point*"
   ]
  },
  {
   "cell_type": "code",
   "execution_count": 1,
   "metadata": {},
   "outputs": [
    {
     "name": "stdout",
     "output_type": "stream",
     "text": [
      "4\n"
     ]
    }
   ],
   "source": [
    "print(4)"
   ]
  },
  {
   "cell_type": "code",
   "execution_count": 5,
   "metadata": {},
   "outputs": [
    {
     "name": "stdout",
     "output_type": "stream",
     "text": [
      "3.5\n"
     ]
    }
   ],
   "source": [
    "print(3.5)"
   ]
  },
  {
   "cell_type": "code",
   "execution_count": 2,
   "metadata": {},
   "outputs": [
    {
     "name": "stdout",
     "output_type": "stream",
     "text": [
      "There are 4 seasons\n"
     ]
    }
   ],
   "source": [
    "print('There are 4 seasons')"
   ]
  },
  {
   "cell_type": "code",
   "execution_count": 3,
   "metadata": {},
   "outputs": [
    {
     "data": {
      "text/plain": [
       "int"
      ]
     },
     "execution_count": 3,
     "metadata": {},
     "output_type": "execute_result"
    }
   ],
   "source": [
    "type(4)"
   ]
  },
  {
   "cell_type": "code",
   "execution_count": 6,
   "metadata": {},
   "outputs": [
    {
     "data": {
      "text/plain": [
       "float"
      ]
     },
     "execution_count": 6,
     "metadata": {},
     "output_type": "execute_result"
    }
   ],
   "source": [
    "type(3.5)"
   ]
  },
  {
   "cell_type": "code",
   "execution_count": 4,
   "metadata": {},
   "outputs": [
    {
     "data": {
      "text/plain": [
       "str"
      ]
     },
     "execution_count": 4,
     "metadata": {},
     "output_type": "execute_result"
    }
   ],
   "source": [
    "type('There are 4 seasons')"
   ]
  },
  {
   "cell_type": "markdown",
   "metadata": {},
   "source": [
    "**Do NOT use comma for large number**"
   ]
  },
  {
   "cell_type": "code",
   "execution_count": 7,
   "metadata": {},
   "outputs": [
    {
     "name": "stdout",
     "output_type": "stream",
     "text": [
      "1 0 0\n"
     ]
    }
   ],
   "source": [
    "print(1,000,000)"
   ]
  },
  {
   "cell_type": "code",
   "execution_count": 8,
   "metadata": {},
   "outputs": [
    {
     "name": "stdout",
     "output_type": "stream",
     "text": [
      "1000000\n"
     ]
    }
   ],
   "source": [
    "# correct code should be\n",
    "\n",
    "print(1000000)"
   ]
  },
  {
   "cell_type": "markdown",
   "metadata": {},
   "source": [
    "--------------------------------"
   ]
  },
  {
   "cell_type": "markdown",
   "metadata": {},
   "source": [
    "### Variables"
   ]
  },
  {
   "cell_type": "markdown",
   "metadata": {},
   "source": [
    "One of the most powerful features of a programming language is the ability to manipulate variables.\n",
    "\n",
    "**Variable** - a name that refers to a value.\n",
    "\n",
    "**Assignment statment** creates new variables and gives them value"
   ]
  },
  {
   "cell_type": "code",
   "execution_count": 10,
   "metadata": {},
   "outputs": [
    {
     "data": {
      "text/plain": [
       "'I am a woman who codes'"
      ]
     },
     "execution_count": 10,
     "metadata": {},
     "output_type": "execute_result"
    }
   ],
   "source": [
    "message = 'I am a woman who codes'\n",
    "message"
   ]
  },
  {
   "cell_type": "code",
   "execution_count": 11,
   "metadata": {},
   "outputs": [
    {
     "data": {
      "text/plain": [
       "17"
      ]
     },
     "execution_count": 11,
     "metadata": {},
     "output_type": "execute_result"
    }
   ],
   "source": [
    "n = 17\n",
    "n"
   ]
  },
  {
   "cell_type": "code",
   "execution_count": 13,
   "metadata": {},
   "outputs": [
    {
     "data": {
      "text/plain": [
       "3.14"
      ]
     },
     "execution_count": 13,
     "metadata": {},
     "output_type": "execute_result"
    }
   ],
   "source": [
    "pi = 3.14\n",
    "pi"
   ]
  },
  {
   "cell_type": "markdown",
   "metadata": {},
   "source": [
    "Variable name:\n",
    "\n",
    "- are meaningful and document what the variable is used for\n",
    "\n",
    "- can be arbitrarily long\n",
    "\n",
    "- can contain both letters and numbers\n",
    "\n",
    "- can **NOT** start with a number\n",
    "\n",
    "- better to begin with lower case letter, **AVOID** starting with upper case letter although it still works\n",
    "\n",
    "- can contain underscore ( _ ) but **AVOID** to start with an underscore ( _ )\n",
    "\n",
    "- can **NOT** be one of the **reserved keywords**\n",
    "\n",
    "\n",
    "\n",
    "and - del - from - None - True - as - elif - global - nonlocal - try - assert \n",
    "\n",
    "else - if - not - while - break - except - import - or - with - class - False\n",
    "\n",
    "in - pass - yield - continue - finally - is - raise - async - def - for\n",
    "\n",
    "lambda - return - await\n"
   ]
  },
  {
   "cell_type": "markdown",
   "metadata": {},
   "source": [
    "-----------------------------------------"
   ]
  },
  {
   "cell_type": "markdown",
   "metadata": {},
   "source": [
    "### Statements"
   ]
  },
  {
   "cell_type": "markdown",
   "metadata": {},
   "source": [
    "**A statement** - a unit of code that the Python iterpreter can execute. \n",
    "\n",
    "*With a statement in interactive mode, the interpreter executes it and display the result, if there is one.*\n",
    "\n",
    "**A script** - contains a sequence of statements. If there is more than one statement, the results appear one at a time as the statement execute."
   ]
  },
  {
   "cell_type": "code",
   "execution_count": 14,
   "metadata": {},
   "outputs": [
    {
     "name": "stdout",
     "output_type": "stream",
     "text": [
      "1\n",
      "2\n"
     ]
    }
   ],
   "source": [
    "print(1)\n",
    "x = 2\n",
    "print(x)"
   ]
  },
  {
   "cell_type": "markdown",
   "metadata": {},
   "source": [
    "-->  The assignment statement produces no output"
   ]
  },
  {
   "cell_type": "markdown",
   "metadata": {},
   "source": [
    "-------------------------------"
   ]
  },
  {
   "cell_type": "markdown",
   "metadata": {},
   "source": [
    "### Operators and operands"
   ]
  },
  {
   "cell_type": "markdown",
   "metadata": {},
   "source": [
    "**Operator** - special symbols that represent computations like addition and multiplication.\n",
    "\n",
    "+ ' + '  : addition\n",
    "\n",
    "+ ' - '  : subtraction\n",
    "\n",
    "+ ' * '  : multiplication\n",
    "\n",
    "+ ' / '  : division\n",
    "\n",
    "+ ' ** ' : exponentiation\n",
    "\n",
    "+ ' // ' : floored division\n",
    "\n",
    "+ ' % '  : modulus division - yield the remainder in division\n",
    "\n",
    "\n",
    "\n",
    "**Operand** - the values the operator is applied to \n",
    "\n",
    "\n",
    "**Order of operations** - PEMDAS\n",
    "\n",
    "**Parentheses** then **Exponentiation** then **Muliplication/Division** then **Addition/Subtraction"
   ]
  },
  {
   "cell_type": "markdown",
   "metadata": {},
   "source": [
    "-----------------------------------------------------"
   ]
  },
  {
   "cell_type": "markdown",
   "metadata": {},
   "source": [
    "### Expressions"
   ]
  },
  {
   "cell_type": "markdown",
   "metadata": {},
   "source": [
    "**Expression** - a combination of values, variables and operators.\n",
    "\n",
    "*With an expression in interactive mode, the interpreter evaluates it and displays the result*\n",
    "\n",
    "*In a script, an expression all by itself does NOT do anything*"
   ]
  },
  {
   "cell_type": "code",
   "execution_count": 21,
   "metadata": {},
   "outputs": [
    {
     "data": {
      "text/plain": [
       "2"
      ]
     },
     "execution_count": 21,
     "metadata": {},
     "output_type": "execute_result"
    }
   ],
   "source": [
    "# expression in interactive mode\n",
    "1 + 1"
   ]
  },
  {
   "cell_type": "code",
   "execution_count": 15,
   "metadata": {},
   "outputs": [
    {
     "data": {
      "text/plain": [
       "6"
      ]
     },
     "execution_count": 15,
     "metadata": {},
     "output_type": "execute_result"
    }
   ],
   "source": [
    "5\n",
    "x = 5\n",
    "x + 1"
   ]
  },
  {
   "cell_type": "markdown",
   "metadata": {},
   "source": [
    "-----------------------------"
   ]
  },
  {
   "cell_type": "markdown",
   "metadata": {},
   "source": [
    "### String operations"
   ]
  },
  {
   "cell_type": "markdown",
   "metadata": {},
   "source": [
    "+ When the ' + ' operator works with strings, it performs **concatenation** which means joining the strings by linking them end to end."
   ]
  },
  {
   "cell_type": "code",
   "execution_count": 2,
   "metadata": {},
   "outputs": [
    {
     "name": "stdout",
     "output_type": "stream",
     "text": [
      "1012\n"
     ]
    }
   ],
   "source": [
    "first = '10'\n",
    "second = '12'\n",
    "print(first + second)"
   ]
  },
  {
   "cell_type": "markdown",
   "metadata": {},
   "source": [
    "+ When the ' * ' operator works with strings, it multiplies the content of a string by an integer"
   ]
  },
  {
   "cell_type": "code",
   "execution_count": 4,
   "metadata": {},
   "outputs": [
    {
     "name": "stdout",
     "output_type": "stream",
     "text": [
      "Test Test Test \n"
     ]
    }
   ],
   "source": [
    "first = 'Test '\n",
    "second = 3\n",
    "print(first * second)"
   ]
  },
  {
   "cell_type": "markdown",
   "metadata": {},
   "source": [
    "---------------------------------"
   ]
  },
  {
   "cell_type": "markdown",
   "metadata": {},
   "source": [
    "### Asking the user for input"
   ]
  },
  {
   "cell_type": "code",
   "execution_count": 9,
   "metadata": {},
   "outputs": [
    {
     "name": "stdout",
     "output_type": "stream",
     "text": [
      "The sky is blue\n",
      "The sky is blue\n"
     ]
    }
   ],
   "source": [
    "# run the code below to ask for input\n",
    "inp = input()\n",
    "print(inp)"
   ]
  },
  {
   "cell_type": "code",
   "execution_count": 1,
   "metadata": {},
   "outputs": [
    {
     "name": "stdout",
     "output_type": "stream",
     "text": [
      "What is your name?\n",
      "Hanh\n",
      "Hanh\n"
     ]
    }
   ],
   "source": [
    "# run the code below to ask for input\n",
    "name = input('What is your name?\\n')\n",
    "print(name)"
   ]
  },
  {
   "cell_type": "markdown",
   "metadata": {},
   "source": [
    "The sequence **\\n** at the end of the prompt represents a *newline* which is a special character that causes a line break"
   ]
  },
  {
   "cell_type": "markdown",
   "metadata": {},
   "source": [
    "If the input is expected to be an integer, use **int()** to convert the return value to *int*"
   ]
  },
  {
   "cell_type": "code",
   "execution_count": 6,
   "metadata": {},
   "outputs": [
    {
     "name": "stdout",
     "output_type": "stream",
     "text": [
      "What...is the airspeed velocity of an unladen swallow?\n",
      "17\n"
     ]
    },
    {
     "data": {
      "text/plain": [
       "17"
      ]
     },
     "execution_count": 6,
     "metadata": {},
     "output_type": "execute_result"
    }
   ],
   "source": [
    "prompt = 'What...is the airspeed velocity of an unladen swallow?\\n'\n",
    "speed = input(prompt)\n",
    "int(speed)"
   ]
  },
  {
   "cell_type": "code",
   "execution_count": 4,
   "metadata": {},
   "outputs": [
    {
     "data": {
      "text/plain": [
       "22"
      ]
     },
     "execution_count": 4,
     "metadata": {},
     "output_type": "execute_result"
    }
   ],
   "source": [
    "int(speed) + 5"
   ]
  },
  {
   "cell_type": "markdown",
   "metadata": {},
   "source": [
    "But if something other than a string of digits is given, an error is returned:"
   ]
  },
  {
   "cell_type": "code",
   "execution_count": 7,
   "metadata": {},
   "outputs": [
    {
     "name": "stdout",
     "output_type": "stream",
     "text": [
      "What...is the airspeed velocity of an unladen swallow?\n",
      "What do you mean?\n"
     ]
    },
    {
     "ename": "ValueError",
     "evalue": "invalid literal for int() with base 10: 'What do you mean?'",
     "output_type": "error",
     "traceback": [
      "\u001b[1;31m---------------------------------------------------------------------------\u001b[0m",
      "\u001b[1;31mValueError\u001b[0m                                Traceback (most recent call last)",
      "\u001b[1;32m<ipython-input-7-475f32107734>\u001b[0m in \u001b[0;36m<module>\u001b[1;34m\u001b[0m\n\u001b[0;32m      1\u001b[0m \u001b[0mspeed\u001b[0m \u001b[1;33m=\u001b[0m \u001b[0minput\u001b[0m\u001b[1;33m(\u001b[0m\u001b[0mprompt\u001b[0m\u001b[1;33m)\u001b[0m\u001b[1;33m\u001b[0m\u001b[1;33m\u001b[0m\u001b[0m\n\u001b[1;32m----> 2\u001b[1;33m \u001b[0mint\u001b[0m\u001b[1;33m(\u001b[0m\u001b[0mspeed\u001b[0m\u001b[1;33m)\u001b[0m\u001b[1;33m\u001b[0m\u001b[1;33m\u001b[0m\u001b[0m\n\u001b[0m",
      "\u001b[1;31mValueError\u001b[0m: invalid literal for int() with base 10: 'What do you mean?'"
     ]
    }
   ],
   "source": [
    "speed = input(prompt)\n",
    "int(speed)"
   ]
  },
  {
   "cell_type": "markdown",
   "metadata": {},
   "source": [
    "-------------------------------------------"
   ]
  },
  {
   "cell_type": "markdown",
   "metadata": {},
   "source": [
    "### Glossary"
   ]
  },
  {
   "cell_type": "markdown",
   "metadata": {},
   "source": [
    "**assignment** - A statement that assigns a value to a variable\n",
    "\n",
    "**concatenate** - To join two operands end to end.\n",
    "\n",
    "**comment** - Information in a program that is meant for other programmers (or any one reading the souce code) and has no effect on the execution of the program.\n",
    "\n",
    "**evaluate** - To simplyfy an expression by performing the operations in order to yield a single value\n",
    "\n",
    "**expression** - A combination of variables, operators, and values that represents a single result value.\n",
    "\n",
    "**floating point** - A type that represents numbers with fractional parts\n",
    "\n",
    "**integer** - A type that represents whole numbers\n",
    "\n",
    "**keyword** - A reserved word that is used by the compiler to parse a program; you cannot use keywords as variable names\n",
    "\n",
    "**mnemonic** - A memory aid. We often give variables mnemonic names to help us remember what is stored in the variable\n",
    "\n",
    "**modulus operator** - An operator, denoted with a percentage sign (%), that work on integers and yields the remainder when one number is divided by another\n",
    "\n",
    "**operand** -  One of the values on which an operator operates.\n",
    "\n",
    "**operator** - A special symbol that represents a simple computation like addition, multiplication, or string concetenation.\n",
    "\n",
    "**rules of precedence** - The set of rules governing the order in which expressions involving multiple operatators and operands are evaluated\n",
    "\n",
    "**statment** - A section of code that represents a command or action.\n",
    "\n",
    "**string** - A type that represents sequences of characters.\n",
    "\n",
    "**type** - A category of values\n",
    "\n",
    "**value** - One of the basic units of data, like a number or string that a program manipulates\n",
    "\n",
    "**variable** - A name that refers to a value."
   ]
  },
  {
   "cell_type": "markdown",
   "metadata": {},
   "source": [
    "-------------------------------------------"
   ]
  },
  {
   "cell_type": "markdown",
   "metadata": {},
   "source": [
    "## Exercises"
   ]
  },
  {
   "cell_type": "markdown",
   "metadata": {},
   "source": [
    "**1. Type the following statements in the Python interpreter to see what they do**"
   ]
  },
  {
   "cell_type": "code",
   "execution_count": 8,
   "metadata": {},
   "outputs": [
    {
     "data": {
      "text/plain": [
       "6"
      ]
     },
     "execution_count": 8,
     "metadata": {},
     "output_type": "execute_result"
    }
   ],
   "source": [
    "5\n",
    "x = 5\n",
    "x + 1"
   ]
  },
  {
   "cell_type": "markdown",
   "metadata": {},
   "source": [
    "**2. Write a program that uses input to prompt a user for their name and then welcomes them**\n",
    "\n",
    "Enter your name: Chuck\n",
    "\n",
    "Hello Chuck"
   ]
  },
  {
   "cell_type": "code",
   "execution_count": 11,
   "metadata": {},
   "outputs": [
    {
     "name": "stdout",
     "output_type": "stream",
     "text": [
      "What is your name? - Chuck\n",
      "Hello Chuck\n"
     ]
    }
   ],
   "source": [
    "name = input('What is your name? - ')\n",
    "print('Hello ' + name)"
   ]
  },
  {
   "cell_type": "markdown",
   "metadata": {},
   "source": [
    "**3. Write a program to prompt the user for hours and rate per hour to compute gross pay**\n",
    "\n",
    "Enter Hours: 35\n",
    "\n",
    "Enter Rate: 2.75\n",
    "\n",
    "Pay: 96.25"
   ]
  },
  {
   "cell_type": "code",
   "execution_count": 23,
   "metadata": {},
   "outputs": [
    {
     "name": "stdout",
     "output_type": "stream",
     "text": [
      "How many hours did you work? - 35\n",
      "Enter your hourly rate: 2.75\n",
      "Your gross pay is:  96.25\n"
     ]
    }
   ],
   "source": [
    "hour = float(input('How many hours did you work? - ') )\n",
    "rate = float(input('Enter your hourly rate: ') )\n",
    "gross = hour * rate\n",
    "print('Your gross pay is: ', gross)  \n",
    "# or print('Your gross pay is: ', hour * rate)"
   ]
  },
  {
   "cell_type": "markdown",
   "metadata": {},
   "source": [
    "**4. Assume that we execute the following assignment statements:**\n",
    "\n",
    "width = 17\n",
    "\n",
    "height = 12.0\n",
    "\n",
    "For each of the following expressions, write the value of the expression and the type (of the value of the expression)\n",
    "\n",
    "1. width//2\n",
    "\n",
    "2. width/2.0\n",
    "\n",
    "3. height/3\n",
    "\n",
    "4. 1 + 2 * 5"
   ]
  },
  {
   "cell_type": "code",
   "execution_count": 27,
   "metadata": {},
   "outputs": [
    {
     "name": "stdout",
     "output_type": "stream",
     "text": [
      "8\n",
      "<class 'int'>\n"
     ]
    }
   ],
   "source": [
    "# 1. width // 2\n",
    "width = 17\n",
    "print(width // 2)\n",
    "print( type (width // 2) )"
   ]
  },
  {
   "cell_type": "code",
   "execution_count": 28,
   "metadata": {},
   "outputs": [
    {
     "name": "stdout",
     "output_type": "stream",
     "text": [
      "8.5\n",
      "<class 'float'>\n"
     ]
    }
   ],
   "source": [
    "#2. width / 2\n",
    "width = 17\n",
    "print(width / 2.0)\n",
    "print( type(width / 2.0) )"
   ]
  },
  {
   "cell_type": "code",
   "execution_count": 29,
   "metadata": {},
   "outputs": [
    {
     "name": "stdout",
     "output_type": "stream",
     "text": [
      "4.0\n",
      "<class 'float'>\n"
     ]
    }
   ],
   "source": [
    "#3. height / 3\n",
    "height = 12.0\n",
    "print(height / 3)\n",
    "print(type (height /3) )"
   ]
  },
  {
   "cell_type": "code",
   "execution_count": 30,
   "metadata": {},
   "outputs": [
    {
     "name": "stdout",
     "output_type": "stream",
     "text": [
      "11\n",
      "<class 'int'>\n"
     ]
    }
   ],
   "source": [
    "#4. 1 + 2 * 5\n",
    "print(1 + 2 * 5)\n",
    "print( type(1 + 2 * 5) )"
   ]
  },
  {
   "cell_type": "markdown",
   "metadata": {},
   "source": [
    "**5. Write a program which prompts the user for a Celsius temperature, convert the temperature to Fahrenheit, and print out the converted temperature**"
   ]
  },
  {
   "cell_type": "code",
   "execution_count": 33,
   "metadata": {},
   "outputs": [
    {
     "name": "stdout",
     "output_type": "stream",
     "text": [
      "Enter the temperature in Celsius: 32\n",
      "Your temperature in Fahrenheit is 89.6\n"
     ]
    }
   ],
   "source": [
    "celsius = float( input('Enter the temperature in Celsius: '))\n",
    "fahrenheit = (celsius * 9 / 5) + 32\n",
    "print('Your temperature in Fahrenheit is', fahrenheit)"
   ]
  }
 ],
 "metadata": {
  "kernelspec": {
   "display_name": "Python 3",
   "language": "python",
   "name": "python3"
  },
  "language_info": {
   "codemirror_mode": {
    "name": "ipython",
    "version": 3
   },
   "file_extension": ".py",
   "mimetype": "text/x-python",
   "name": "python",
   "nbconvert_exporter": "python",
   "pygments_lexer": "ipython3",
   "version": "3.7.4"
  }
 },
 "nbformat": 4,
 "nbformat_minor": 2
}

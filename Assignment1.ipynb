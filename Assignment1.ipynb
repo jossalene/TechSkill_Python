{
 "cells": [
  {
   "cell_type": "markdown",
   "metadata": {},
   "source": [
    "# Assignment 1"
   ]
  },
  {
   "cell_type": "markdown",
   "metadata": {},
   "source": [
    "**1.**\n",
    "The radius of a circle is 5.5. Write a script to compute the area of a circle."
   ]
  },
  {
   "cell_type": "code",
   "execution_count": 2,
   "metadata": {},
   "outputs": [
    {
     "data": {
      "text/plain": [
       "94.985"
      ]
     },
     "execution_count": 2,
     "metadata": {},
     "output_type": "execute_result"
    }
   ],
   "source": [
    "PI = 3.14\n",
    "r = 5.5\n",
    "area = PI * (r**2)\n",
    "area"
   ]
  },
  {
   "cell_type": "markdown",
   "metadata": {},
   "source": [
    "**2.**\n",
    "Write a program where Python prints your name, then print them in reverse order with a comma between them.  Put this in the same cell.    \n",
    "\n",
    "For example:\n",
    "\n",
    "Sophia Barrett    \n",
    "Barrett, Sophia"
   ]
  },
  {
   "cell_type": "code",
   "execution_count": 4,
   "metadata": {},
   "outputs": [
    {
     "name": "stdout",
     "output_type": "stream",
     "text": [
      "Hanh Nguyen\n",
      "Nguyen, Hanh\n"
     ]
    }
   ],
   "source": [
    "print(\"Hanh Nguyen\")\n",
    "print(\"Nguyen,\", \"Hanh\")"
   ]
  },
  {
   "cell_type": "markdown",
   "metadata": {},
   "source": [
    "**3.**  Write a program to test if a number is divisible by 5."
   ]
  },
  {
   "cell_type": "code",
   "execution_count": 13,
   "metadata": {},
   "outputs": [
    {
     "name": "stdout",
     "output_type": "stream",
     "text": [
      "Enter a number: 9\n",
      "It is False to say that 9.0 is divisible by 5\n"
     ]
    }
   ],
   "source": [
    "n = float(input(\"Enter a number: \"))\n",
    "m = n % 5\n",
    "print(\"It is\", m == 0, \"to say that\", n, \"is divisible by 5\")"
   ]
  },
  {
   "cell_type": "markdown",
   "metadata": {},
   "source": [
    "**4.**  What is the output of the following program?  \n",
    "\n",
    "a = 1  \n",
    "b = a * 2  \n",
    "c = 2 * b + 1  \n",
    "print(a)  \n",
    "print(b)  \n",
    "print(c)  \n",
    "\n",
    "__Answer__:\n",
    "\n",
    "print(a)  \n",
    "1  \n",
    "\n",
    "print(b)  \n",
    "2  \n",
    "\n",
    "print(c)  \n",
    "5"
   ]
  },
  {
   "cell_type": "code",
   "execution_count": 14,
   "metadata": {},
   "outputs": [
    {
     "name": "stdout",
     "output_type": "stream",
     "text": [
      "1\n",
      "2\n",
      "5\n"
     ]
    }
   ],
   "source": [
    "# test the answer\n",
    "a = 1  \n",
    "b = a * 2  \n",
    "c = 2 * b + 1  \n",
    "print(a)  \n",
    "print(b)  \n",
    "print(c)"
   ]
  },
  {
   "cell_type": "markdown",
   "metadata": {},
   "source": [
    "**5.**  What is the output of the following program?  \n",
    "\n",
    "a = 2  \n",
    "b = a * 2  \n",
    "c = b ** a  \n",
    "a = c % 2  \n",
    "print(a)  \n",
    "print(b)  \n",
    "print(c)\n",
    "\n",
    "__Answer__\n",
    "\n",
    "print(a)  \n",
    "0\n",
    "\n",
    "print(b)  \n",
    "4\n",
    "\n",
    "print(c)  \n",
    "16"
   ]
  },
  {
   "cell_type": "code",
   "execution_count": 20,
   "metadata": {},
   "outputs": [
    {
     "name": "stdout",
     "output_type": "stream",
     "text": [
      "0\n",
      "4\n",
      "16\n"
     ]
    }
   ],
   "source": [
    "# test the answer\n",
    "a = 2  \n",
    "b = a * 2  \n",
    "c = b ** a  \n",
    "a = c % 2   # value of a is overwritten here\n",
    "print(a)  \n",
    "print(b)  \n",
    "print(c)  "
   ]
  },
  {
   "cell_type": "markdown",
   "metadata": {},
   "source": [
    "**6.**    What is the output of the following program?  \n",
    "\n",
    "a = 5  \n",
    "b = a // 2  \n",
    "c = a / 2  \n",
    "a = a % 2  \n",
    "print(a)  \n",
    "print(b)  \n",
    "print(c)  \n",
    "\n",
    "__Answer__\n",
    "\n",
    "print(a)  \n",
    "1\n",
    "\n",
    "print(b)  \n",
    "2\n",
    "\n",
    "print(c)  \n",
    "2.5"
   ]
  },
  {
   "cell_type": "code",
   "execution_count": 21,
   "metadata": {},
   "outputs": [
    {
     "name": "stdout",
     "output_type": "stream",
     "text": [
      "1\n",
      "2\n",
      "2.5\n"
     ]
    }
   ],
   "source": [
    "# test the answer\n",
    "a = 5\n",
    "b = a // 2\n",
    "c = a / 2\n",
    "a = a % 2  # the value of a is overwritten here\n",
    "print(a)\n",
    "print(b)\n",
    "print(c) "
   ]
  },
  {
   "cell_type": "markdown",
   "metadata": {},
   "source": [
    "**7.**  Type each of the following commands.  Note each response.    \n",
    "print(\"Hello, world!\")    \n",
    "print(\"Hello\", \"world!\")  \n",
    "print(3)  \n",
    "print(3.0)  \n",
    "print(2 + 3)  \n",
    "print(2.0 + 3.0)  \n",
    "print(2 * 3)  \n",
    "print(2 ** 3)  \n",
    "print(7 / 3)  \n",
    "print(7 // 3)  "
   ]
  },
  {
   "cell_type": "code",
   "execution_count": 23,
   "metadata": {},
   "outputs": [
    {
     "name": "stdout",
     "output_type": "stream",
     "text": [
      "Hello, world!\n",
      "Hello world!\n",
      "3\n",
      "3.0\n",
      "5\n",
      "5.0\n",
      "6\n",
      "8\n",
      "2.3333333333333335\n",
      "2\n"
     ]
    }
   ],
   "source": [
    "print(\"Hello, world!\")   # comma is included --> Hello, world!\n",
    "print(\"Hello\", \"world!\") # comma is NOT included, only the two words --> Hello world!\n",
    "print(3)                 # integer --> 3\n",
    "print(3.0)               # float --> 3.0\n",
    "print(2 + 3)             # summation of 2 integers --> 5\n",
    "print(2.0 + 3.0)         # summation of 2 floats ---> 5.0\n",
    "print(2 * 3)             # multiplication --> 6\n",
    "print(2 ** 3)            # exponentiation --> 8\n",
    "print(7 / 3)             # division --> 2.33333...\n",
    "print(7 // 3)            # floor division --> 2"
   ]
  },
  {
   "cell_type": "markdown",
   "metadata": {},
   "source": [
    "**8.**\n",
    "\n",
    "Create a program with a name and age.  Then have it print out a message addressed to name that tells them the year that they will turn 100 years old."
   ]
  },
  {
   "cell_type": "code",
   "execution_count": 30,
   "metadata": {},
   "outputs": [
    {
     "name": "stdout",
     "output_type": "stream",
     "text": [
      "What is your name? Hanh\n",
      "How old are you? 30\n",
      "Hey, you will turn 100 years old in 2090 , Hanh .\n"
     ]
    }
   ],
   "source": [
    "name = input(\"What is your name? \")\n",
    "age = int(input(\"How old are you? \"))\n",
    "year = 2020 + 100 - age\n",
    "print(\"Hey, you will turn 100 years old in\", year, \",\", name, \".\")"
   ]
  },
  {
   "cell_type": "markdown",
   "metadata": {},
   "source": [
    "**9.**  Create a sequence of numbers from 3 to 19, but increment by 2.  "
   ]
  },
  {
   "cell_type": "code",
   "execution_count": 32,
   "metadata": {},
   "outputs": [
    {
     "data": {
      "text/plain": [
       "[3, 5, 7, 9, 11, 13, 15, 17]"
      ]
     },
     "execution_count": 32,
     "metadata": {},
     "output_type": "execute_result"
    }
   ],
   "source": [
    "list(range(3, 19, 2))"
   ]
  },
  {
   "cell_type": "markdown",
   "metadata": {},
   "source": [
    "**10.**  Try to solve this problem on your own first, then check your results with python.    \n",
    "  \n",
    "  \n",
    "a = 21  \n",
    "b = 10  \n",
    "c = 0\n",
    "\n",
    "c = a + b  \n",
    "print \"Line 1 - Value of c is \", c  \n",
    "--> Answer: Line 1 - Value of c is **31**\n",
    "\n",
    "------------------\n",
    "\n",
    "c += a  \n",
    "print \"Line 2 - Value of c is \", c  \n",
    "--> Answer:  Line 2 - Value of c is **52**\n",
    "\n",
    "---------------\n",
    "\n",
    "c * = a  \n",
    "print \"Line 3 - Value of c is \", c  \n",
    "--> Answer: Line 3 - Value of c is **1092**\n",
    "\n",
    "----------------\n",
    "\n",
    "c /= a  \n",
    "print \"Line 4 - Value of c is \", c  \n",
    "--> Answer: Line 4 - Value of c is **52**\n",
    "\n",
    "------------------\n",
    "\n",
    "c  = 2  \n",
    "c %= a  \n",
    "print \"Line 5 - Value of c is \", c  \n",
    "--> Answer: Line 5 - Value of c is **2**\n",
    "\n",
    "-----------------\n",
    "\n",
    "c  ^= a  \n",
    "print \"Line 6 - Value of c is \", c  \n",
    "--> Answer: Line 6 - Value of c is **2097152**\n",
    "\n",
    "\n",
    "------------------------\n",
    "\n",
    "c //= a  \n",
    "print \"Line 7 - Value of c is \", c  \n",
    "--> Answer: Line 7 - Value of c is **99864**\n",
    "\n",
    "--------------------------------------"
   ]
  },
  {
   "cell_type": "code",
   "execution_count": 1,
   "metadata": {},
   "outputs": [
    {
     "name": "stdout",
     "output_type": "stream",
     "text": [
      "Line 1 - Value of c is 31\n",
      "Line 2 - Value of c is 52\n",
      "Line 3 - Value of c is 1092\n",
      "Line 4 - Value of c is 52.0\n",
      "Line 5 - Value of c is 2\n",
      "Line 6 - Value of c is 2097152\n",
      "Line 7 - Value of c is 99864\n"
     ]
    }
   ],
   "source": [
    "a = 21\n",
    "b = 10\n",
    "c = 0\n",
    "\n",
    "c = a + b\n",
    "print(\"Line 1 - Value of c is\", c)\n",
    "\n",
    "c += a\n",
    "print(\"Line 2 - Value of c is\", c)\n",
    "\n",
    "c*= a\n",
    "print(\"Line 3 - Value of c is\", c)\n",
    "\n",
    "c/= a\n",
    "print(\"Line 4 - Value of c is\", c)\n",
    "\n",
    "c = 2\n",
    "c %= a\n",
    "print(\"Line 5 - Value of c is\", c)\n",
    "\n",
    "c **= a\n",
    "print(\"Line 6 - Value of c is\", c)\n",
    "\n",
    "c //= a\n",
    "print(\"Line 7 - Value of c is\", c)"
   ]
  },
  {
   "cell_type": "code",
   "execution_count": null,
   "metadata": {},
   "outputs": [],
   "source": []
  },
  {
   "cell_type": "code",
   "execution_count": null,
   "metadata": {},
   "outputs": [],
   "source": []
  },
  {
   "cell_type": "code",
   "execution_count": null,
   "metadata": {},
   "outputs": [],
   "source": []
  },
  {
   "cell_type": "code",
   "execution_count": null,
   "metadata": {},
   "outputs": [],
   "source": []
  },
  {
   "cell_type": "code",
   "execution_count": null,
   "metadata": {},
   "outputs": [],
   "source": []
  }
 ],
 "metadata": {
  "kernelspec": {
   "display_name": "Python 3",
   "language": "python",
   "name": "python3"
  },
  "language_info": {
   "codemirror_mode": {
    "name": "ipython",
    "version": 3
   },
   "file_extension": ".py",
   "mimetype": "text/x-python",
   "name": "python",
   "nbconvert_exporter": "python",
   "pygments_lexer": "ipython3",
   "version": "3.7.4"
  }
 },
 "nbformat": 4,
 "nbformat_minor": 2
}

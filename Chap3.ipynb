{
 "cells": [
  {
   "cell_type": "markdown",
   "metadata": {},
   "source": [
    "# Chapter 3: Conditional execution"
   ]
  },
  {
   "cell_type": "markdown",
   "metadata": {},
   "source": [
    "### Boolean expressions\n",
    "\n",
    "**A boolean expression** is an expression that is either true or false  \n",
    "`True` and `False` are special values that belong to the class `bool`; they are not strings.  \n",
    "\n",
    "**Comparison operator**\n",
    "\n",
    "        x    !=    y       # x is not equal to y  \n",
    "        x    >     y       # x is greater than y  \n",
    "        x    <     y       # x is less than y  \n",
    "        x    >=    y       # x is greater than or equal to y  \n",
    "        x    <=    y       # x is less than or equal to y  \n",
    "        x    is    y       # x is the same as y  \n",
    "        x  is not  y       # x is not the same as y  \n",
    "\n",
    "There is no such thing as `=<` or `=>`"
   ]
  },
  {
   "cell_type": "markdown",
   "metadata": {},
   "source": [
    "---------------"
   ]
  },
  {
   "cell_type": "markdown",
   "metadata": {},
   "source": [
    "### Logical operators\n",
    "\n",
    "There are threeo logical operators: **and**, **or**, and **or**\n",
    "\n",
    "x > 0 and x < 10 is true only if x is greater than 0 and less than 10\n",
    "\n",
    "n%2 == 0 or n%3 == 0 is true if either of the conditions is true, that is, if the number is divisible by 2 or 3\n",
    "\n",
    "`not` operator negates a boolean expression:  \n",
    "not (x > y) is true if x > y is false; that is, if x is less than or equal to y\n",
    "\n",
    "The operands of the logical operators should be boolean expressions, but Python is not very strict  \n",
    "--> Any nonzero number is interpret as \"true\""
   ]
  },
  {
   "cell_type": "markdown",
   "metadata": {},
   "source": [
    "-------------------"
   ]
  },
  {
   "cell_type": "markdown",
   "metadata": {},
   "source": [
    "### Conditional excution  \n",
    "\n",
    "**Conditional statements** give the ability to check conditions and change the behavior of the program in order to write useful program\n",
    "\n",
    "**Compound statements** are statements that consist of a header line that ends with the colon character (:) followed by an indented block"
   ]
  },
  {
   "cell_type": "code",
   "execution_count": 2,
   "metadata": {},
   "outputs": [
    {
     "name": "stdout",
     "output_type": "stream",
     "text": [
      "x is positive\n"
     ]
    }
   ],
   "source": [
    "x = 2\n",
    "if x > 0 :                 #the boolean expression after the if statement is called 'the condition'\n",
    "    print('x is positive')    #end with (:) and the line(s) after are indented\n",
    "\n",
    "# if the logical condition is true, then the indented statement gets executed.\n",
    "# if the logical condition is false, the indented statement is skipped"
   ]
  },
  {
   "cell_type": "markdown",
   "metadata": {},
   "source": [
    "There is no limit on the number of statements that can appear in the body but there must be at least one\n",
    "\n",
    "`if` statements have the same structure as function definition or `for` loops\n",
    "\n",
    "A blank line at the end of a block is crucial when writing in Python interpreter, otherwise Python will return an error\n",
    "\n",
    "A blank line at the end of a block of statements is not necessary when writing and executing a script, but it may improve readability of your code"
   ]
  },
  {
   "cell_type": "markdown",
   "metadata": {},
   "source": [
    "-------"
   ]
  },
  {
   "cell_type": "markdown",
   "metadata": {},
   "source": [
    "### Alternative execution\n",
    "\n",
    "**Alternative execution** is a second form of the `if` statement, in which there are two possibilities and the condition determines which one gets executed"
   ]
  },
  {
   "cell_type": "code",
   "execution_count": 4,
   "metadata": {},
   "outputs": [
    {
     "name": "stdout",
     "output_type": "stream",
     "text": [
      "x is odd\n"
     ]
    }
   ],
   "source": [
    "x = 5\n",
    "if x%2 == 0 :\n",
    "    print('x is even')    # if the condition is false here, the seconds set of statements is executed\n",
    "else : \n",
    "    print('x is odd')"
   ]
  },
  {
   "cell_type": "markdown",
   "metadata": {},
   "source": [
    "Since the condition must either be true or false, exactly one of the alternatives will be executed. the alternatives are called **branches** because they are *branches* in the flow for execution."
   ]
  },
  {
   "cell_type": "markdown",
   "metadata": {},
   "source": [
    "-------------"
   ]
  },
  {
   "cell_type": "markdown",
   "metadata": {},
   "source": [
    "### Chained conditionals\n",
    "\n",
    "**Chained conditional** is the computation which has more than two branches.\n",
    "\n",
    "Each condition is checked in order.  \n",
    "If the 1st is false, the next is executed and so on.  \n",
    "If one of them is true, the corresponding brance executes, and the statement ends.\n",
    "Even if more than one condition is true, only the first true branch executes"
   ]
  },
  {
   "cell_type": "code",
   "execution_count": 5,
   "metadata": {},
   "outputs": [
    {
     "name": "stdout",
     "output_type": "stream",
     "text": [
      "x is less than y\n"
     ]
    }
   ],
   "source": [
    "x = 7\n",
    "y = 8\n",
    "if x < y :\n",
    "    print('x is less than y')\n",
    "elif x > y :                              # exactly one branch is executed\n",
    "    print('x is greater than y')          # there is no limit on the number of elif statments\n",
    "else :                                    # there must be 1 'else' to be the end.\n",
    "    print('x and y are equal')"
   ]
  },
  {
   "cell_type": "code",
   "execution_count": 8,
   "metadata": {},
   "outputs": [
    {
     "name": "stdout",
     "output_type": "stream",
     "text": [
      "Good guess\n"
     ]
    }
   ],
   "source": [
    "choice = 'b'\n",
    "if choice == 'a': \n",
    "    print('Bad guess') \n",
    "elif choice == 'b': \n",
    "    print('Good guess')\n",
    "elif choice == 'c': \n",
    "    print('Close, but not correct')     #missing 'else' to end "
   ]
  },
  {
   "cell_type": "markdown",
   "metadata": {},
   "source": [
    "----------"
   ]
  },
  {
   "cell_type": "markdown",
   "metadata": {},
   "source": [
    "### Nested conditionals\n",
    "\n",
    "**Nested conditionals** is when one condition can also be nested within another\n",
    "\n",
    "Since **nested conditionals** can be difficult to read very quickly --> **AVOID** if possible"
   ]
  },
  {
   "cell_type": "code",
   "execution_count": 9,
   "metadata": {},
   "outputs": [
    {
     "name": "stdout",
     "output_type": "stream",
     "text": [
      "x is less than y\n"
     ]
    }
   ],
   "source": [
    "x = 5\n",
    "y = 9\n",
    "# the condition contains 2 branches\n",
    "if x == y :                             # 1. simple statement\n",
    "    print('x and y are equal')\n",
    "else :                                  # 2. another statement with 2 branches of its own\n",
    "    if x < y :                                   #a. branch 1\n",
    "        print('x is less than y')\n",
    "    else :                                       #b. branch 2\n",
    "        print('x is greater than y')"
   ]
  },
  {
   "cell_type": "markdown",
   "metadata": {},
   "source": [
    "**Logical operators** often provide a way to simplify nested condition statement"
   ]
  },
  {
   "cell_type": "code",
   "execution_count": null,
   "metadata": {},
   "outputs": [],
   "source": [
    "# original nested conditional\n",
    "\n",
    "if 0 < x :\n",
    "    if x < 10 : \n",
    "        print('x is a positive single-digit number.')\n",
    "        \n",
    "        \n",
    "# rewrite with logical operators\n",
    "\n",
    "if 0 < x and x < 10:\n",
    "    print('x is a positive single-digit number.')\n"
   ]
  },
  {
   "cell_type": "markdown",
   "metadata": {},
   "source": [
    "--------------------"
   ]
  },
  {
   "cell_type": "markdown",
   "metadata": {},
   "source": [
    "### Catching exceptions using `try` and `except`\n",
    "\n",
    "**Catching exceptions** is handling an exception with try a `try` statement\n",
    "The idea of `try` and `except` is that you know that some sequence of instruction(s) may have a problem and you want to add some statements to be executed if an error occurs. These extra statements (the except block) are ignored if there is no error\n",
    "\n",
    "`try` and `except` are considered as an 'insurance policy' on a sequence of statements\n",
    "\n",
    "Python starts by executing the sequence of statements in the `try` block. If all goes well, it skips the `except` block and proceeds. If an exceptions occur in the `try` block, Python jumps out of the block and executes the sequence of statements in the `except` block."
   ]
  },
  {
   "cell_type": "code",
   "execution_count": 17,
   "metadata": {},
   "outputs": [
    {
     "name": "stdout",
     "output_type": "stream",
     "text": [
      "Enter Fahrenheit Temperature: fred\n"
     ]
    },
    {
     "ename": "ValueError",
     "evalue": "could not convert string to float: 'fred'",
     "output_type": "error",
     "traceback": [
      "\u001b[1;31m---------------------------------------------------------------------------\u001b[0m",
      "\u001b[1;31mValueError\u001b[0m                                Traceback (most recent call last)",
      "\u001b[1;32m<ipython-input-17-33f81ad3ec7f>\u001b[0m in \u001b[0;36m<module>\u001b[1;34m\u001b[0m\n\u001b[0;32m      1\u001b[0m \u001b[1;31m# this code will show error if entering string\u001b[0m\u001b[1;33m\u001b[0m\u001b[1;33m\u001b[0m\u001b[1;33m\u001b[0m\u001b[0m\n\u001b[0;32m      2\u001b[0m \u001b[0minp\u001b[0m \u001b[1;33m=\u001b[0m \u001b[0minput\u001b[0m\u001b[1;33m(\u001b[0m\u001b[1;34m'Enter Fahrenheit Temperature: '\u001b[0m\u001b[1;33m)\u001b[0m\u001b[1;33m\u001b[0m\u001b[1;33m\u001b[0m\u001b[0m\n\u001b[1;32m----> 3\u001b[1;33m \u001b[0mfahr\u001b[0m \u001b[1;33m=\u001b[0m \u001b[0mfloat\u001b[0m\u001b[1;33m(\u001b[0m\u001b[0minp\u001b[0m\u001b[1;33m)\u001b[0m\u001b[1;33m\u001b[0m\u001b[1;33m\u001b[0m\u001b[0m\n\u001b[0m\u001b[0;32m      4\u001b[0m \u001b[0mcel\u001b[0m \u001b[1;33m=\u001b[0m \u001b[1;33m(\u001b[0m\u001b[0mfahr\u001b[0m \u001b[1;33m-\u001b[0m \u001b[1;36m32.0\u001b[0m\u001b[1;33m)\u001b[0m \u001b[1;33m*\u001b[0m \u001b[1;36m5.0\u001b[0m \u001b[1;33m/\u001b[0m \u001b[1;36m9.0\u001b[0m\u001b[1;33m\u001b[0m\u001b[1;33m\u001b[0m\u001b[0m\n\u001b[0;32m      5\u001b[0m \u001b[0mprint\u001b[0m\u001b[1;33m(\u001b[0m\u001b[0mcel\u001b[0m\u001b[1;33m)\u001b[0m\u001b[1;33m\u001b[0m\u001b[1;33m\u001b[0m\u001b[0m\n",
      "\u001b[1;31mValueError\u001b[0m: could not convert string to float: 'fred'"
     ]
    }
   ],
   "source": [
    "# this code will show error if entering string\n",
    "inp = input('Enter Fahrenheit Temperature: ') \n",
    "fahr = float(inp) \n",
    "cel = (fahr - 32.0) * 5.0 / 9.0 \n",
    "print(cel)"
   ]
  },
  {
   "cell_type": "code",
   "execution_count": 15,
   "metadata": {},
   "outputs": [
    {
     "name": "stdout",
     "output_type": "stream",
     "text": [
      "Enter Fahrenheit Temperature:fred\n",
      "Please enter a number\n"
     ]
    }
   ],
   "source": [
    "# 'try' and 'except' will avoid error above  \n",
    "inp = input('Enter Fahrenheit Temperature:')\n",
    "try :\n",
    "    fahr = float(inp)\n",
    "    cel = (fahr - 32.00) * 5.0 / 9.0\n",
    "    print(cel)\n",
    "except :\n",
    "    print('Please enter a number')"
   ]
  },
  {
   "cell_type": "markdown",
   "metadata": {},
   "source": [
    "------------------------------------------------------------------------------"
   ]
  },
  {
   "cell_type": "markdown",
   "metadata": {},
   "source": [
    "### Short-circuit evaluation of logical expressions"
   ]
  },
  {
   "cell_type": "markdown",
   "metadata": {},
   "source": [
    "**Short-circuiting** the evaluation is when the evalution of a logical expression stop because the overall value is already known.  \n",
    "This may lead to a special technique called the **guardian pattern**"
   ]
  },
  {
   "cell_type": "code",
   "execution_count": 18,
   "metadata": {},
   "outputs": [
    {
     "data": {
      "text/plain": [
       "True"
      ]
     },
     "execution_count": 18,
     "metadata": {},
     "output_type": "execute_result"
    }
   ],
   "source": [
    "x = 6\n",
    "y = 2\n",
    "x >= 2 and (x/y) >2"
   ]
  },
  {
   "cell_type": "code",
   "execution_count": 19,
   "metadata": {},
   "outputs": [
    {
     "data": {
      "text/plain": [
       "False"
      ]
     },
     "execution_count": 19,
     "metadata": {},
     "output_type": "execute_result"
    }
   ],
   "source": [
    "# error occurs when y = 0\n",
    "# however, this code did not fail because the first condition is FALSE x is NOT >= 2\n",
    "x = 1\n",
    "y = 0\n",
    "x >= 2 and (x/y) > 2"
   ]
  },
  {
   "cell_type": "code",
   "execution_count": 21,
   "metadata": {},
   "outputs": [
    {
     "ename": "ZeroDivisionError",
     "evalue": "division by zero",
     "output_type": "error",
     "traceback": [
      "\u001b[1;31m---------------------------------------------------------------------------\u001b[0m",
      "\u001b[1;31mZeroDivisionError\u001b[0m                         Traceback (most recent call last)",
      "\u001b[1;32m<ipython-input-21-61a6b888f033>\u001b[0m in \u001b[0;36m<module>\u001b[1;34m\u001b[0m\n\u001b[0;32m      3\u001b[0m \u001b[0mx\u001b[0m \u001b[1;33m=\u001b[0m \u001b[1;36m6\u001b[0m\u001b[1;33m\u001b[0m\u001b[1;33m\u001b[0m\u001b[0m\n\u001b[0;32m      4\u001b[0m \u001b[0my\u001b[0m \u001b[1;33m=\u001b[0m \u001b[1;36m0\u001b[0m\u001b[1;33m\u001b[0m\u001b[1;33m\u001b[0m\u001b[0m\n\u001b[1;32m----> 5\u001b[1;33m \u001b[0mx\u001b[0m \u001b[1;33m>=\u001b[0m \u001b[1;36m2\u001b[0m \u001b[1;32mand\u001b[0m \u001b[1;33m(\u001b[0m\u001b[0mx\u001b[0m\u001b[1;33m/\u001b[0m\u001b[0my\u001b[0m\u001b[1;33m)\u001b[0m \u001b[1;33m>\u001b[0m \u001b[1;36m2\u001b[0m\u001b[1;33m\u001b[0m\u001b[1;33m\u001b[0m\u001b[0m\n\u001b[0m",
      "\u001b[1;31mZeroDivisionError\u001b[0m: division by zero"
     ]
    }
   ],
   "source": [
    "# errpr occurs when y = o\n",
    "# this code fail because the second condition cannot be completed because x/y and y is 0\n",
    "x = 6\n",
    "y = 0\n",
    "x >= 2 and (x/y) > 2"
   ]
  },
  {
   "cell_type": "markdown",
   "metadata": {},
   "source": [
    "This can be fixed by placing **a guard** evaluation just before the evaluation that might cause an error"
   ]
  },
  {
   "cell_type": "code",
   "execution_count": 22,
   "metadata": {},
   "outputs": [
    {
     "data": {
      "text/plain": [
       "False"
      ]
     },
     "execution_count": 22,
     "metadata": {},
     "output_type": "execute_result"
    }
   ],
   "source": [
    "x = 1\n",
    "y = 0\n",
    "x >= 2 and y != 0 and (x/y) > 2"
   ]
  },
  {
   "cell_type": "code",
   "execution_count": 24,
   "metadata": {},
   "outputs": [
    {
     "data": {
      "text/plain": [
       "False"
      ]
     },
     "execution_count": 24,
     "metadata": {},
     "output_type": "execute_result"
    }
   ],
   "source": [
    "# y != 0 acts as a guard to insure that we only execute (x/y) if y is non-zero\n",
    "x = 6\n",
    "y = 0\n",
    "x >= 2 and y != 0 and  (x/y) > 2"
   ]
  },
  {
   "cell_type": "code",
   "execution_count": 25,
   "metadata": {},
   "outputs": [
    {
     "ename": "ZeroDivisionError",
     "evalue": "division by zero",
     "output_type": "error",
     "traceback": [
      "\u001b[1;31m---------------------------------------------------------------------------\u001b[0m",
      "\u001b[1;31mZeroDivisionError\u001b[0m                         Traceback (most recent call last)",
      "\u001b[1;32m<ipython-input-25-c093d6cae9a9>\u001b[0m in \u001b[0;36m<module>\u001b[1;34m\u001b[0m\n\u001b[0;32m      1\u001b[0m \u001b[0mx\u001b[0m \u001b[1;33m=\u001b[0m \u001b[1;36m6\u001b[0m\u001b[1;33m\u001b[0m\u001b[1;33m\u001b[0m\u001b[0m\n\u001b[0;32m      2\u001b[0m \u001b[0my\u001b[0m \u001b[1;33m=\u001b[0m \u001b[1;36m0\u001b[0m\u001b[1;33m\u001b[0m\u001b[1;33m\u001b[0m\u001b[0m\n\u001b[1;32m----> 3\u001b[1;33m \u001b[0mx\u001b[0m \u001b[1;33m>=\u001b[0m \u001b[1;36m2\u001b[0m \u001b[1;32mand\u001b[0m \u001b[1;33m(\u001b[0m\u001b[0mx\u001b[0m\u001b[1;33m/\u001b[0m\u001b[0my\u001b[0m\u001b[1;33m)\u001b[0m \u001b[1;33m>\u001b[0m \u001b[1;36m2\u001b[0m \u001b[1;32mand\u001b[0m \u001b[0my\u001b[0m \u001b[1;33m!=\u001b[0m \u001b[1;36m0\u001b[0m\u001b[1;33m\u001b[0m\u001b[1;33m\u001b[0m\u001b[0m\n\u001b[0m",
      "\u001b[1;31mZeroDivisionError\u001b[0m: division by zero"
     ]
    }
   ],
   "source": [
    "# y != 0 is after the (x/y) calculation so the expression fails with an error\n",
    "x = 6\n",
    "y = 0\n",
    "x >= 2 and (x/y) > 2 and y != 0"
   ]
  },
  {
   "cell_type": "markdown",
   "metadata": {},
   "source": [
    "--------------------"
   ]
  },
  {
   "cell_type": "markdown",
   "metadata": {},
   "source": [
    "### Debugging\n",
    "\n",
    "The traceback Python displays when an error occurs contains a lot of information, but it can be overwhelming. The most useful parts are usually:  \n",
    "+ What kind of error it was, and  \n",
    "+ Where it occurred\n",
    "\n",
    "Syntax errors are usually easy to find  \n",
    "Whitespace errors can be tricky because spaces and tabs are invisible\n",
    "\n",
    "In general, error messages indicate where the problem was discovered, but the actual error might be earilier in the code, sometimes on a previous line."
   ]
  },
  {
   "cell_type": "markdown",
   "metadata": {},
   "source": [
    "--------------------------------"
   ]
  },
  {
   "cell_type": "markdown",
   "metadata": {},
   "source": [
    "### Glossary\n",
    "\n",
    "**body** The sequence of statments within a compound statement. \n",
    "\n",
    "**boolean expression** An expression whose value is either True or False.  \n",
    "\n",
    "**branch** One of the alternative sequences of statements in a conditional statement.  \n",
    "\n",
    "**chained conditional** A conditional statement with a series of alternative branches.  \n",
    "\n",
    "**comparison operator** One of the operators that compares its operands: `==`, `!=`, `>`, `<`, `>=`, and `<=`.  \n",
    "\n",
    "**conditional statement** A statement that controls the flow of execution depending on some condition\n",
    "\n",
    "**condition** The boolean expression in a conditional statement that determines which brand is executed.\n",
    "\n",
    "**compound statement** A statement that consists of a header and a body. The header ends with a colon\n",
    "\n",
    "**guardian pattern** Where we construct a logical expression with additional comparisons to take advantage of the short circuit behavior\n",
    "\n",
    "**logical operator** One of the operators that combines boolean expressions: `and`, `or`, and `not`\n",
    "\n",
    "**nested conditional** A conditional statement that appears in one of the branches of another conditional statement\n",
    "\n",
    "**traceback** A list of the functions that are executing, printed when an exception occurs\n",
    "\n",
    "**short circuit** When Python is part-way through evaluating a logical expression and stops the evaluation because Python knows the final value for the expression without needing to evaluate the rest of the expression.\n"
   ]
  },
  {
   "cell_type": "markdown",
   "metadata": {},
   "source": [
    "---------------------------------------"
   ]
  },
  {
   "cell_type": "markdown",
   "metadata": {},
   "source": [
    "## Exercises"
   ]
  },
  {
   "cell_type": "markdown",
   "metadata": {},
   "source": [
    "**1. Rewrite your pay computation to give the employee 1.5 times the hourly rate for hours worked above 40 hours**\n",
    "\n",
    "Enter Hours: 45  \n",
    "Enter Rate: 10  \n",
    "Pay: 475.0  \n"
   ]
  },
  {
   "cell_type": "code",
   "execution_count": 26,
   "metadata": {},
   "outputs": [
    {
     "name": "stdout",
     "output_type": "stream",
     "text": [
      "How many hours per week did you work? 45\n",
      "Enter your hourly rate:10\n",
      "Your weekly pay will be: 475.0\n"
     ]
    }
   ],
   "source": [
    "hour = float(input('How many hours per week did you work? ') )\n",
    "rate = float(input('Enter your hourly rate:') )\n",
    "\n",
    "over_hour =  hour - 40\n",
    "over_rate = 1.5 * rate\n",
    "pay = rate * hour\n",
    "over_pay = (40 * rate) + (over_hour * over_rate )\n",
    "\n",
    "if hour <= 40 : \n",
    "    print('Your weekly pay will be:', pay)\n",
    "else: \n",
    "    print('Your weekly pay will be:', over_pay)\n"
   ]
  },
  {
   "cell_type": "markdown",
   "metadata": {},
   "source": [
    "**2. Rewrite your pay program using try and except so that your program handles non-numeric input gracefully by printing a message and exiting the program. The following shows two executions of the program**"
   ]
  },
  {
   "cell_type": "code",
   "execution_count": 32,
   "metadata": {},
   "outputs": [
    {
     "name": "stdout",
     "output_type": "stream",
     "text": [
      "How many hours per week did you work? forty\n",
      "Error, please enter numeric input\n"
     ]
    }
   ],
   "source": [
    "over_hour =  hour - 40\n",
    "over_rate = 1.5 * rate\n",
    "pay = rate * hour\n",
    "over_pay = (40 * rate) + (over_hour * over_rate )\n",
    "\n",
    "try :\n",
    "    hour = float(input('How many hours per week did you work? ') )\n",
    "    rate = float(input('Enter your hourly rate: ') )\n",
    "    if hour <= 40 : \n",
    "        print('Your weekly pay will be:', pay)\n",
    "    else: \n",
    "        print('Your weekly pay will be:', over_pay)\n",
    "except :\n",
    "    print('Error, please enter numeric input')    "
   ]
  },
  {
   "cell_type": "markdown",
   "metadata": {},
   "source": [
    "**3. Write a program to prompt for a score between 0.0 and 1.0. If the score is out of range, print an error message. If the score is between 0.0 and 1.0, print a grade using the following table:**\n",
    "\n",
    "`>=` 0.9 A   \n",
    "`>=` 0.8 B  \n",
    "`>=` 0.7 C  \n",
    "`>=` 0.6 D  \n",
    " `<` 0.6 F\n",
    " \n",
    "Enter score: 0.95  \n",
    "A\n",
    "\n",
    "Enter score: perfect  \n",
    "Bad score\n",
    "\n",
    "Enter score: 10.0  \n",
    "Bad score\n",
    "\n",
    "Enter score: 0.75  \n",
    "C\n",
    "\n",
    "Enter score: 0.5  \n",
    "F\n",
    "\n",
    "Run the program repeatedly as shown above to test the various diﬀerent values for input."
   ]
  },
  {
   "cell_type": "code",
   "execution_count": 40,
   "metadata": {},
   "outputs": [
    {
     "name": "stdout",
     "output_type": "stream",
     "text": [
      "Enter score: hanh\n",
      "Error, please enter score between 0.0 and 1.0 \n"
     ]
    }
   ],
   "source": [
    "try :\n",
    "    x = float(input('Enter score: ') )\n",
    "    if 0.9 <= x <= 1.0 :\n",
    "        print('A')\n",
    "    elif 0.8 <= x < 0.9 :\n",
    "        print('B')\n",
    "    elif 0.7 <= x < 0.8 :\n",
    "        print('C')\n",
    "    elif 0.6 <= x < 0.7 :\n",
    "        print('D')\n",
    "    elif 0 <= x < 0.6 :\n",
    "        print('F')\n",
    "    else :\n",
    "        print('Bad score')\n",
    "except :\n",
    "    print('Error, please enter score between 0.0 and 1.0 ')\n",
    "        "
   ]
  },
  {
   "cell_type": "code",
   "execution_count": null,
   "metadata": {},
   "outputs": [],
   "source": []
  }
 ],
 "metadata": {
  "kernelspec": {
   "display_name": "Python 3",
   "language": "python",
   "name": "python3"
  },
  "language_info": {
   "codemirror_mode": {
    "name": "ipython",
    "version": 3
   },
   "file_extension": ".py",
   "mimetype": "text/x-python",
   "name": "python",
   "nbconvert_exporter": "python",
   "pygments_lexer": "ipython3",
   "version": "3.7.4"
  }
 },
 "nbformat": 4,
 "nbformat_minor": 2
}
